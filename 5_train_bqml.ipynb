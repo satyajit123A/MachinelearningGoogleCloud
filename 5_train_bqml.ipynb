{
 "cells": [
  {
   "cell_type": "markdown",
   "metadata": {
    "colab_type": "text",
    "deletable": true,
    "editable": true,
    "id": "aklJxkHBD5aR"
   },
   "source": [
    "# Predicting babyweight using BigQuery ML\n",
    "\n",
    "This notebook illustrates:\n",
    "<ol>\n",
    "<li> Machine Learning using BigQuery\n",
    "<li> Jupyter Magic for BigQuery in Cloud Datalab\n",
    "</ol>\n",
    "\n",
    "Please see [this notebook](1_explore.ipynb) for more context on this problem and how the features were chosen."
   ]
  },
  {
   "cell_type": "code",
   "execution_count": 5,
   "metadata": {
    "colab": {
     "autoexec": {
      "startup": false,
      "wait_interval": 0
     }
    },
    "colab_type": "code",
    "collapsed": true,
    "deletable": true,
    "editable": true,
    "id": "BhUiclqCD5aT"
   },
   "outputs": [],
   "source": [
    "# change these to try this notebook out\n",
    "PROJECT = 'cloud-training-demos'\n",
    "REGION = 'us-central1'"
   ]
  },
  {
   "cell_type": "code",
   "execution_count": 6,
   "metadata": {
    "colab": {
     "autoexec": {
      "startup": false,
      "wait_interval": 0
     }
    },
    "colab_type": "code",
    "collapsed": true,
    "deletable": true,
    "editable": true,
    "id": "F10_KsX7D5aX"
   },
   "outputs": [],
   "source": [
    "import os\n",
    "os.environ['PROJECT'] = PROJECT\n",
    "os.environ['REGION'] = REGION"
   ]
  },
  {
   "cell_type": "code",
   "execution_count": 7,
   "metadata": {
    "colab": {
     "autoexec": {
      "startup": false,
      "wait_interval": 0
     }
    },
    "colab_type": "code",
    "collapsed": false,
    "deletable": true,
    "editable": true,
    "id": "YrqwSv6vD5aZ",
    "outputId": "402ed11b-ab4a-4480-a1aa-f72741cd2cc1"
   },
   "outputs": [
    {
     "name": "stderr",
     "output_type": "stream",
     "text": [
      "Updated property [core/project].\n",
      "Updated property [compute/region].\n"
     ]
    }
   ],
   "source": [
    "%bash\n",
    "gcloud config set project $PROJECT\n",
    "gcloud config set compute/region $REGION"
   ]
  },
  {
   "cell_type": "markdown",
   "metadata": {
    "colab_type": "text",
    "deletable": true,
    "editable": true,
    "id": "j782YaAzD5ae"
   },
   "source": [
    "## Exploring the Data\n",
    "\n",
    "Here, we will be taking natality data and training on features to predict the birth weight.\n",
    "\n",
    "The CDC's Natality data has details on US births from 1969 to 2008 and is available in BigQuery as a public data set. More details: https://bigquery.cloud.google.com/table/publicdata:samples.natality?tab=details\n",
    "\n",
    "Lets start by looking at the data since 2000 with useful values > 0!"
   ]
  },
  {
   "cell_type": "code",
   "execution_count": 8,
   "metadata": {
    "colab": {
     "autoexec": {
      "startup": false,
      "wait_interval": 0
     }
    },
    "colab_type": "code",
    "collapsed": false,
    "deletable": true,
    "editable": true,
    "id": "odWaIcLdD5af",
    "outputId": "2654ad9b-a735-4cd3-c3d9-80ebed8ed6bf"
   },
   "outputs": [
    {
     "data": {
      "text/html": [
       "\n",
       "    <div class=\"bqtv\" id=\"1_153211122497\"><table><tr><th>source_year</th><th>year</th><th>month</th><th>day</th><th>wday</th><th>state</th><th>is_male</th><th>child_race</th><th>weight_pounds</th><th>plurality</th><th>apgar_1min</th><th>apgar_5min</th><th>mother_residence_state</th><th>mother_race</th><th>mother_age</th><th>gestation_weeks</th><th>lmp</th><th>mother_married</th><th>mother_birth_state</th><th>cigarette_use</th><th>cigarettes_per_day</th><th>alcohol_use</th><th>drinks_per_week</th><th>weight_gain_pounds</th><th>born_alive_alive</th><th>born_alive_dead</th><th>born_dead</th><th>ever_born</th><th>father_race</th><th>father_age</th><th>record_weight</th></tr><tr><td>2001</td><td>2001</td><td>11</td><td>&nbsp;</td><td>5</td><td>WA</td><td>True</td><td>9</td><td>7.25100379718</td><td>1</td><td>99</td><td>9</td><td>WA</td><td>1</td><td>33</td><td>37</td><td>02142001</td><td>True</td><td>WA</td><td>&nbsp;</td><td>&nbsp;</td><td>&nbsp;</td><td>&nbsp;</td><td>99</td><td>3</td><td>0</td><td>1</td><td>4</td><td>1</td><td>32</td><td>1</td></tr><tr><td>2001</td><td>2001</td><td>12</td><td>&nbsp;</td><td>3</td><td>CO</td><td>True</td><td>9</td><td>7.06361087448</td><td>1</td><td>99</td><td>9</td><td>CO</td><td>1</td><td>32</td><td>37</td><td>03142001</td><td>True</td><td>CA</td><td>&nbsp;</td><td>&nbsp;</td><td>False</td><td>&nbsp;</td><td>32</td><td>0</td><td>0</td><td>0</td><td>1</td><td>1</td><td>39</td><td>1</td></tr><tr><td>2001</td><td>2001</td><td>6</td><td>&nbsp;</td><td>5</td><td>IN</td><td>True</td><td>9</td><td>4.68702769012</td><td>3</td><td>99</td><td>9</td><td>IN</td><td>1</td><td>30</td><td>33</td><td>11992000</td><td>True</td><td>IN</td><td>&nbsp;</td><td>&nbsp;</td><td>False</td><td>&nbsp;</td><td>38</td><td>0</td><td>0</td><td>0</td><td>1</td><td>1</td><td>33</td><td>1</td></tr><tr><td>2001</td><td>2001</td><td>4</td><td>&nbsp;</td><td>5</td><td>MN</td><td>True</td><td>9</td><td>7.5618555866</td><td>1</td><td>99</td><td>9</td><td>MN</td><td>1</td><td>20</td><td>39</td><td>07072000</td><td>False</td><td>MN</td><td>&nbsp;</td><td>&nbsp;</td><td>False</td><td>&nbsp;</td><td>40</td><td>0</td><td>0</td><td>0</td><td>1</td><td>9</td><td>99</td><td>1</td></tr><tr><td>2001</td><td>2001</td><td>10</td><td>&nbsp;</td><td>5</td><td>MS</td><td>True</td><td>9</td><td>7.5618555866</td><td>1</td><td>99</td><td>9</td><td>MS</td><td>1</td><td>31</td><td>37</td><td>01312001</td><td>True</td><td>MS</td><td>&nbsp;</td><td>&nbsp;</td><td>False</td><td>&nbsp;</td><td>33</td><td>0</td><td>0</td><td>0</td><td>1</td><td>1</td><td>31</td><td>1</td></tr><tr><td>2001</td><td>2001</td><td>10</td><td>&nbsp;</td><td>5</td><td>NY</td><td>False</td><td>9</td><td>7.6279942652</td><td>1</td><td>99</td><td>9</td><td>NY</td><td>1</td><td>30</td><td>40</td><td>01052001</td><td>True</td><td>PA</td><td>&nbsp;</td><td>&nbsp;</td><td>False</td><td>&nbsp;</td><td>&nbsp;</td><td>2</td><td>0</td><td>0</td><td>3</td><td>1</td><td>33</td><td>1</td></tr><tr><td>2001</td><td>2001</td><td>1</td><td>&nbsp;</td><td>4</td><td>TX</td><td>False</td><td>9</td><td>7.12534030784</td><td>1</td><td>99</td><td>99</td><td>TX</td><td>1</td><td>33</td><td>39</td><td>04032000</td><td>True</td><td>MS</td><td>&nbsp;</td><td>&nbsp;</td><td>False</td><td>&nbsp;</td><td>35</td><td>3</td><td>0</td><td>0</td><td>4</td><td>1</td><td>30</td><td>1</td></tr><tr><td>2001</td><td>2001</td><td>1</td><td>&nbsp;</td><td>1</td><td>TX</td><td>True</td><td>9</td><td>7.7492485093</td><td>1</td><td>99</td><td>99</td><td>TX</td><td>1</td><td>31</td><td>39</td><td>04192000</td><td>True</td><td>Foreign</td><td>&nbsp;</td><td>&nbsp;</td><td>False</td><td>&nbsp;</td><td>36</td><td>0</td><td>0</td><td>0</td><td>1</td><td>1</td><td>32</td><td>1</td></tr><tr><td>2001</td><td>2001</td><td>11</td><td>&nbsp;</td><td>3</td><td>MO</td><td>True</td><td>9</td><td>7.31273323054</td><td>1</td><td>99</td><td>9</td><td>MO</td><td>1</td><td>32</td><td>40</td><td>01312001</td><td>True</td><td>MO</td><td>&nbsp;</td><td>&nbsp;</td><td>False</td><td>&nbsp;</td><td>&nbsp;</td><td>1</td><td>0</td><td>1</td><td>2</td><td>1</td><td>32</td><td>1</td></tr><tr><td>2001</td><td>2001</td><td>9</td><td>&nbsp;</td><td>2</td><td>OK</td><td>False</td><td>9</td><td>7.50012615324</td><td>1</td><td>99</td><td>9</td><td>OK</td><td>2</td><td>23</td><td>39</td><td>12052000</td><td>False</td><td>LA</td><td>&nbsp;</td><td>&nbsp;</td><td>False</td><td>&nbsp;</td><td>47</td><td>1</td><td>0</td><td>1</td><td>2</td><td>2</td><td>25</td><td>1</td></tr></table></div>\n",
       "    <br />(rows: 10, time: 2.4s,    23GB processed, job: job_ekzuMxgfuroMQXhTbdlYQepdnzNF)<br />\n",
       "    <script src=\"/static/components/requirejs/require.js\"></script>\n",
       "    <script>\n",
       "      require.config({\n",
       "        paths: {\n",
       "          base: '/static/base',\n",
       "          d3: '//cdnjs.cloudflare.com/ajax/libs/d3/3.4.13/d3',\n",
       "          plotly: 'https://cdn.plot.ly/plotly-1.5.1.min.js?noext',\n",
       "          jquery: '//ajax.googleapis.com/ajax/libs/jquery/2.0.0/jquery.min'\n",
       "        },\n",
       "        map: {\n",
       "          '*': {\n",
       "            datalab: 'nbextensions/gcpdatalab'\n",
       "          }\n",
       "        },\n",
       "        shim: {\n",
       "          plotly: {\n",
       "            deps: ['d3', 'jquery'],\n",
       "            exports: 'plotly'\n",
       "          }\n",
       "        }\n",
       "      });\n",
       "\n",
       "      require(['datalab/charting', 'datalab/element!1_153211122497', 'base/js/events',\n",
       "          'datalab/style!/nbextensions/gcpdatalab/charting.css'],\n",
       "        function(charts, dom, events) {\n",
       "          charts.render('gcharts', dom, events, 'table', [], {\"rows\": [{\"c\": [{\"v\": 2001}, {\"v\": 2001}, {\"v\": 11}, {\"v\": null}, {\"v\": 5}, {\"v\": \"WA\"}, {\"v\": true}, {\"v\": 9}, {\"v\": 7.25100379718}, {\"v\": 1}, {\"v\": 99}, {\"v\": 9}, {\"v\": \"WA\"}, {\"v\": 1}, {\"v\": 33}, {\"v\": 37}, {\"v\": \"02142001\"}, {\"v\": true}, {\"v\": \"WA\"}, {\"v\": null}, {\"v\": null}, {\"v\": null}, {\"v\": null}, {\"v\": 99}, {\"v\": 3}, {\"v\": 0}, {\"v\": 1}, {\"v\": 4}, {\"v\": 1}, {\"v\": 32}, {\"v\": 1}]}, {\"c\": [{\"v\": 2001}, {\"v\": 2001}, {\"v\": 12}, {\"v\": null}, {\"v\": 3}, {\"v\": \"CO\"}, {\"v\": true}, {\"v\": 9}, {\"v\": 7.06361087448}, {\"v\": 1}, {\"v\": 99}, {\"v\": 9}, {\"v\": \"CO\"}, {\"v\": 1}, {\"v\": 32}, {\"v\": 37}, {\"v\": \"03142001\"}, {\"v\": true}, {\"v\": \"CA\"}, {\"v\": null}, {\"v\": null}, {\"v\": false}, {\"v\": null}, {\"v\": 32}, {\"v\": 0}, {\"v\": 0}, {\"v\": 0}, {\"v\": 1}, {\"v\": 1}, {\"v\": 39}, {\"v\": 1}]}, {\"c\": [{\"v\": 2001}, {\"v\": 2001}, {\"v\": 6}, {\"v\": null}, {\"v\": 5}, {\"v\": \"IN\"}, {\"v\": true}, {\"v\": 9}, {\"v\": 4.68702769012}, {\"v\": 3}, {\"v\": 99}, {\"v\": 9}, {\"v\": \"IN\"}, {\"v\": 1}, {\"v\": 30}, {\"v\": 33}, {\"v\": \"11992000\"}, {\"v\": true}, {\"v\": \"IN\"}, {\"v\": null}, {\"v\": null}, {\"v\": false}, {\"v\": null}, {\"v\": 38}, {\"v\": 0}, {\"v\": 0}, {\"v\": 0}, {\"v\": 1}, {\"v\": 1}, {\"v\": 33}, {\"v\": 1}]}, {\"c\": [{\"v\": 2001}, {\"v\": 2001}, {\"v\": 4}, {\"v\": null}, {\"v\": 5}, {\"v\": \"MN\"}, {\"v\": true}, {\"v\": 9}, {\"v\": 7.5618555866}, {\"v\": 1}, {\"v\": 99}, {\"v\": 9}, {\"v\": \"MN\"}, {\"v\": 1}, {\"v\": 20}, {\"v\": 39}, {\"v\": \"07072000\"}, {\"v\": false}, {\"v\": \"MN\"}, {\"v\": null}, {\"v\": null}, {\"v\": false}, {\"v\": null}, {\"v\": 40}, {\"v\": 0}, {\"v\": 0}, {\"v\": 0}, {\"v\": 1}, {\"v\": 9}, {\"v\": 99}, {\"v\": 1}]}, {\"c\": [{\"v\": 2001}, {\"v\": 2001}, {\"v\": 10}, {\"v\": null}, {\"v\": 5}, {\"v\": \"MS\"}, {\"v\": true}, {\"v\": 9}, {\"v\": 7.5618555866}, {\"v\": 1}, {\"v\": 99}, {\"v\": 9}, {\"v\": \"MS\"}, {\"v\": 1}, {\"v\": 31}, {\"v\": 37}, {\"v\": \"01312001\"}, {\"v\": true}, {\"v\": \"MS\"}, {\"v\": null}, {\"v\": null}, {\"v\": false}, {\"v\": null}, {\"v\": 33}, {\"v\": 0}, {\"v\": 0}, {\"v\": 0}, {\"v\": 1}, {\"v\": 1}, {\"v\": 31}, {\"v\": 1}]}, {\"c\": [{\"v\": 2001}, {\"v\": 2001}, {\"v\": 10}, {\"v\": null}, {\"v\": 5}, {\"v\": \"NY\"}, {\"v\": false}, {\"v\": 9}, {\"v\": 7.6279942652}, {\"v\": 1}, {\"v\": 99}, {\"v\": 9}, {\"v\": \"NY\"}, {\"v\": 1}, {\"v\": 30}, {\"v\": 40}, {\"v\": \"01052001\"}, {\"v\": true}, {\"v\": \"PA\"}, {\"v\": null}, {\"v\": null}, {\"v\": false}, {\"v\": null}, {\"v\": null}, {\"v\": 2}, {\"v\": 0}, {\"v\": 0}, {\"v\": 3}, {\"v\": 1}, {\"v\": 33}, {\"v\": 1}]}, {\"c\": [{\"v\": 2001}, {\"v\": 2001}, {\"v\": 1}, {\"v\": null}, {\"v\": 4}, {\"v\": \"TX\"}, {\"v\": false}, {\"v\": 9}, {\"v\": 7.12534030784}, {\"v\": 1}, {\"v\": 99}, {\"v\": 99}, {\"v\": \"TX\"}, {\"v\": 1}, {\"v\": 33}, {\"v\": 39}, {\"v\": \"04032000\"}, {\"v\": true}, {\"v\": \"MS\"}, {\"v\": null}, {\"v\": null}, {\"v\": false}, {\"v\": null}, {\"v\": 35}, {\"v\": 3}, {\"v\": 0}, {\"v\": 0}, {\"v\": 4}, {\"v\": 1}, {\"v\": 30}, {\"v\": 1}]}, {\"c\": [{\"v\": 2001}, {\"v\": 2001}, {\"v\": 1}, {\"v\": null}, {\"v\": 1}, {\"v\": \"TX\"}, {\"v\": true}, {\"v\": 9}, {\"v\": 7.7492485093}, {\"v\": 1}, {\"v\": 99}, {\"v\": 99}, {\"v\": \"TX\"}, {\"v\": 1}, {\"v\": 31}, {\"v\": 39}, {\"v\": \"04192000\"}, {\"v\": true}, {\"v\": \"Foreign\"}, {\"v\": null}, {\"v\": null}, {\"v\": false}, {\"v\": null}, {\"v\": 36}, {\"v\": 0}, {\"v\": 0}, {\"v\": 0}, {\"v\": 1}, {\"v\": 1}, {\"v\": 32}, {\"v\": 1}]}, {\"c\": [{\"v\": 2001}, {\"v\": 2001}, {\"v\": 11}, {\"v\": null}, {\"v\": 3}, {\"v\": \"MO\"}, {\"v\": true}, {\"v\": 9}, {\"v\": 7.31273323054}, {\"v\": 1}, {\"v\": 99}, {\"v\": 9}, {\"v\": \"MO\"}, {\"v\": 1}, {\"v\": 32}, {\"v\": 40}, {\"v\": \"01312001\"}, {\"v\": true}, {\"v\": \"MO\"}, {\"v\": null}, {\"v\": null}, {\"v\": false}, {\"v\": null}, {\"v\": null}, {\"v\": 1}, {\"v\": 0}, {\"v\": 1}, {\"v\": 2}, {\"v\": 1}, {\"v\": 32}, {\"v\": 1}]}, {\"c\": [{\"v\": 2001}, {\"v\": 2001}, {\"v\": 9}, {\"v\": null}, {\"v\": 2}, {\"v\": \"OK\"}, {\"v\": false}, {\"v\": 9}, {\"v\": 7.50012615324}, {\"v\": 1}, {\"v\": 99}, {\"v\": 9}, {\"v\": \"OK\"}, {\"v\": 2}, {\"v\": 23}, {\"v\": 39}, {\"v\": \"12052000\"}, {\"v\": false}, {\"v\": \"LA\"}, {\"v\": null}, {\"v\": null}, {\"v\": false}, {\"v\": null}, {\"v\": 47}, {\"v\": 1}, {\"v\": 0}, {\"v\": 1}, {\"v\": 2}, {\"v\": 2}, {\"v\": 25}, {\"v\": 1}]}], \"cols\": [{\"type\": \"number\", \"id\": \"source_year\", \"label\": \"source_year\"}, {\"type\": \"number\", \"id\": \"year\", \"label\": \"year\"}, {\"type\": \"number\", \"id\": \"month\", \"label\": \"month\"}, {\"type\": \"number\", \"id\": \"day\", \"label\": \"day\"}, {\"type\": \"number\", \"id\": \"wday\", \"label\": \"wday\"}, {\"type\": \"string\", \"id\": \"state\", \"label\": \"state\"}, {\"type\": \"boolean\", \"id\": \"is_male\", \"label\": \"is_male\"}, {\"type\": \"number\", \"id\": \"child_race\", \"label\": \"child_race\"}, {\"type\": \"number\", \"id\": \"weight_pounds\", \"label\": \"weight_pounds\"}, {\"type\": \"number\", \"id\": \"plurality\", \"label\": \"plurality\"}, {\"type\": \"number\", \"id\": \"apgar_1min\", \"label\": \"apgar_1min\"}, {\"type\": \"number\", \"id\": \"apgar_5min\", \"label\": \"apgar_5min\"}, {\"type\": \"string\", \"id\": \"mother_residence_state\", \"label\": \"mother_residence_state\"}, {\"type\": \"number\", \"id\": \"mother_race\", \"label\": \"mother_race\"}, {\"type\": \"number\", \"id\": \"mother_age\", \"label\": \"mother_age\"}, {\"type\": \"number\", \"id\": \"gestation_weeks\", \"label\": \"gestation_weeks\"}, {\"type\": \"string\", \"id\": \"lmp\", \"label\": \"lmp\"}, {\"type\": \"boolean\", \"id\": \"mother_married\", \"label\": \"mother_married\"}, {\"type\": \"string\", \"id\": \"mother_birth_state\", \"label\": \"mother_birth_state\"}, {\"type\": \"boolean\", \"id\": \"cigarette_use\", \"label\": \"cigarette_use\"}, {\"type\": \"number\", \"id\": \"cigarettes_per_day\", \"label\": \"cigarettes_per_day\"}, {\"type\": \"boolean\", \"id\": \"alcohol_use\", \"label\": \"alcohol_use\"}, {\"type\": \"number\", \"id\": \"drinks_per_week\", \"label\": \"drinks_per_week\"}, {\"type\": \"number\", \"id\": \"weight_gain_pounds\", \"label\": \"weight_gain_pounds\"}, {\"type\": \"number\", \"id\": \"born_alive_alive\", \"label\": \"born_alive_alive\"}, {\"type\": \"number\", \"id\": \"born_alive_dead\", \"label\": \"born_alive_dead\"}, {\"type\": \"number\", \"id\": \"born_dead\", \"label\": \"born_dead\"}, {\"type\": \"number\", \"id\": \"ever_born\", \"label\": \"ever_born\"}, {\"type\": \"number\", \"id\": \"father_race\", \"label\": \"father_race\"}, {\"type\": \"number\", \"id\": \"father_age\", \"label\": \"father_age\"}, {\"type\": \"number\", \"id\": \"record_weight\", \"label\": \"record_weight\"}]},\n",
       "            {\n",
       "              pageSize: 25,\n",
       "              cssClassNames:  {\n",
       "                tableRow: 'gchart-table-row',\n",
       "                headerRow: 'gchart-table-headerrow',\n",
       "                oddTableRow: 'gchart-table-oddrow',\n",
       "                selectedTableRow: 'gchart-table-selectedrow',\n",
       "                hoverTableRow: 'gchart-table-hoverrow',\n",
       "                tableCell: 'gchart-table-cell',\n",
       "                headerCell: 'gchart-table-headercell',\n",
       "                rowNumberCell: 'gchart-table-rownumcell'\n",
       "              }\n",
       "            },\n",
       "            {source_index: 0, fields: 'source_year,year,month,day,wday,state,is_male,child_race,weight_pounds,plurality,apgar_1min,apgar_5min,mother_residence_state,mother_race,mother_age,gestation_weeks,lmp,mother_married,mother_birth_state,cigarette_use,cigarettes_per_day,alcohol_use,drinks_per_week,weight_gain_pounds,born_alive_alive,born_alive_dead,born_dead,ever_born,father_race,father_age,record_weight'},\n",
       "            0,\n",
       "            10);\n",
       "        }\n",
       "      );\n",
       "    </script>\n",
       "  "
      ],
      "text/plain": [
       "QueryResultsTable job_ekzuMxgfuroMQXhTbdlYQepdnzNF"
      ]
     },
     "execution_count": 8,
     "metadata": {},
     "output_type": "execute_result"
    }
   ],
   "source": [
    "%%bq query\n",
    "SELECT\n",
    "    *\n",
    "FROM\n",
    "  publicdata.samples.natality\n",
    "WHERE\n",
    "  year > 2000\n",
    "  AND gestation_weeks > 0\n",
    "  AND mother_age > 0\n",
    "  AND plurality > 0\n",
    "  AND weight_pounds > 0\n",
    "LIMIT 10"
   ]
  },
  {
   "cell_type": "markdown",
   "metadata": {
    "colab_type": "text",
    "deletable": true,
    "editable": true,
    "id": "ep02J20pD5ai"
   },
   "source": [
    "## Define Features\n",
    "\n",
    "Looking over the data set, there are a few columns of interest that could be leveraged into features for a reasonable prediction of approximate birth weight.\n",
    "\n",
    "Further, some feature engineering may be accomplished with the BigQuery `CAST` function -- in BQML, all strings are considered categorical features and all numeric types are considered continuous ones.\n",
    "\n",
    "The hashmonth is added so that we can repeatably split the data without leakage -- we want all babies that share a birthday to be either in training set or in test set and not spread between them (otherwise, there would be information leakage when it comes to triplets, etc.)"
   ]
  },
  {
   "cell_type": "code",
   "execution_count": 9,
   "metadata": {
    "colab": {
     "autoexec": {
      "startup": false,
      "wait_interval": 0
     }
    },
    "colab_type": "code",
    "collapsed": false,
    "deletable": true,
    "editable": true,
    "id": "DPUCYDjlD5aj",
    "outputId": "3cbc1dbe-22d0-406c-fe9c-0a019040ae3d"
   },
   "outputs": [
    {
     "data": {
      "text/html": [
       "\n",
       "    <div class=\"bqtv\" id=\"2_153211123325\"><table><tr><th>weight_pounds</th><th>is_male</th><th>mother_age</th><th>plurality</th><th>gestation_weeks</th><th>hashmonth</th></tr><tr><td>4.68702769012</td><td>true</td><td>30</td><td>3</td><td>33</td><td>7170969733900686954</td></tr><tr><td>7.06361087448</td><td>true</td><td>32</td><td>1</td><td>37</td><td>7108882242435606404</td></tr><tr><td>7.5618555866</td><td>true</td><td>31</td><td>1</td><td>37</td><td>2126480030009879160</td></tr><tr><td>7.25100379718</td><td>true</td><td>33</td><td>1</td><td>37</td><td>3408502330831153141</td></tr><tr><td>7.5618555866</td><td>true</td><td>20</td><td>1</td><td>39</td><td>6392072535155213407</td></tr><tr><td>7.50012615324</td><td>false</td><td>23</td><td>1</td><td>39</td><td>5896567601480310696</td></tr><tr><td>7.12534030784</td><td>false</td><td>33</td><td>1</td><td>39</td><td>7146494315947640619</td></tr><tr><td>7.7492485093</td><td>true</td><td>31</td><td>1</td><td>39</td><td>7146494315947640619</td></tr><tr><td>7.31273323054</td><td>true</td><td>32</td><td>1</td><td>40</td><td>3408502330831153141</td></tr><tr><td>7.6279942652</td><td>false</td><td>30</td><td>1</td><td>40</td><td>2126480030009879160</td></tr></table></div>\n",
       "    <br />(rows: 10, time: 1.5s,     6GB processed, job: job_rslpmSxbiHwFLEJDPk9vVkaSNY7-)<br />\n",
       "    <script src=\"/static/components/requirejs/require.js\"></script>\n",
       "    <script>\n",
       "      require.config({\n",
       "        paths: {\n",
       "          base: '/static/base',\n",
       "          d3: '//cdnjs.cloudflare.com/ajax/libs/d3/3.4.13/d3',\n",
       "          plotly: 'https://cdn.plot.ly/plotly-1.5.1.min.js?noext',\n",
       "          jquery: '//ajax.googleapis.com/ajax/libs/jquery/2.0.0/jquery.min'\n",
       "        },\n",
       "        map: {\n",
       "          '*': {\n",
       "            datalab: 'nbextensions/gcpdatalab'\n",
       "          }\n",
       "        },\n",
       "        shim: {\n",
       "          plotly: {\n",
       "            deps: ['d3', 'jquery'],\n",
       "            exports: 'plotly'\n",
       "          }\n",
       "        }\n",
       "      });\n",
       "\n",
       "      require(['datalab/charting', 'datalab/element!2_153211123325', 'base/js/events',\n",
       "          'datalab/style!/nbextensions/gcpdatalab/charting.css'],\n",
       "        function(charts, dom, events) {\n",
       "          charts.render('gcharts', dom, events, 'table', [], {\"rows\": [{\"c\": [{\"v\": 4.68702769012}, {\"v\": \"true\"}, {\"v\": 30}, {\"v\": \"3\"}, {\"v\": 33}, {\"v\": 7170969733900686954}]}, {\"c\": [{\"v\": 7.06361087448}, {\"v\": \"true\"}, {\"v\": 32}, {\"v\": \"1\"}, {\"v\": 37}, {\"v\": 7108882242435606404}]}, {\"c\": [{\"v\": 7.5618555866}, {\"v\": \"true\"}, {\"v\": 31}, {\"v\": \"1\"}, {\"v\": 37}, {\"v\": 2126480030009879160}]}, {\"c\": [{\"v\": 7.25100379718}, {\"v\": \"true\"}, {\"v\": 33}, {\"v\": \"1\"}, {\"v\": 37}, {\"v\": 3408502330831153141}]}, {\"c\": [{\"v\": 7.5618555866}, {\"v\": \"true\"}, {\"v\": 20}, {\"v\": \"1\"}, {\"v\": 39}, {\"v\": 6392072535155213407}]}, {\"c\": [{\"v\": 7.50012615324}, {\"v\": \"false\"}, {\"v\": 23}, {\"v\": \"1\"}, {\"v\": 39}, {\"v\": 5896567601480310696}]}, {\"c\": [{\"v\": 7.12534030784}, {\"v\": \"false\"}, {\"v\": 33}, {\"v\": \"1\"}, {\"v\": 39}, {\"v\": 7146494315947640619}]}, {\"c\": [{\"v\": 7.7492485093}, {\"v\": \"true\"}, {\"v\": 31}, {\"v\": \"1\"}, {\"v\": 39}, {\"v\": 7146494315947640619}]}, {\"c\": [{\"v\": 7.31273323054}, {\"v\": \"true\"}, {\"v\": 32}, {\"v\": \"1\"}, {\"v\": 40}, {\"v\": 3408502330831153141}]}, {\"c\": [{\"v\": 7.6279942652}, {\"v\": \"false\"}, {\"v\": 30}, {\"v\": \"1\"}, {\"v\": 40}, {\"v\": 2126480030009879160}]}], \"cols\": [{\"type\": \"number\", \"id\": \"weight_pounds\", \"label\": \"weight_pounds\"}, {\"type\": \"string\", \"id\": \"is_male\", \"label\": \"is_male\"}, {\"type\": \"number\", \"id\": \"mother_age\", \"label\": \"mother_age\"}, {\"type\": \"string\", \"id\": \"plurality\", \"label\": \"plurality\"}, {\"type\": \"number\", \"id\": \"gestation_weeks\", \"label\": \"gestation_weeks\"}, {\"type\": \"number\", \"id\": \"hashmonth\", \"label\": \"hashmonth\"}]},\n",
       "            {\n",
       "              pageSize: 25,\n",
       "              cssClassNames:  {\n",
       "                tableRow: 'gchart-table-row',\n",
       "                headerRow: 'gchart-table-headerrow',\n",
       "                oddTableRow: 'gchart-table-oddrow',\n",
       "                selectedTableRow: 'gchart-table-selectedrow',\n",
       "                hoverTableRow: 'gchart-table-hoverrow',\n",
       "                tableCell: 'gchart-table-cell',\n",
       "                headerCell: 'gchart-table-headercell',\n",
       "                rowNumberCell: 'gchart-table-rownumcell'\n",
       "              }\n",
       "            },\n",
       "            {source_index: 1, fields: 'weight_pounds,is_male,mother_age,plurality,gestation_weeks,hashmonth'},\n",
       "            0,\n",
       "            10);\n",
       "        }\n",
       "      );\n",
       "    </script>\n",
       "  "
      ],
      "text/plain": [
       "QueryResultsTable job_rslpmSxbiHwFLEJDPk9vVkaSNY7-"
      ]
     },
     "execution_count": 9,
     "metadata": {},
     "output_type": "execute_result"
    }
   ],
   "source": [
    "%%bq query\n",
    "SELECT\n",
    "    weight_pounds, -- this is the label; because it is continuous, we need to use regression\n",
    "    CAST(is_male AS STRING) AS is_male,\n",
    "    mother_age,\n",
    "    CAST(plurality AS STRING) AS plurality,\n",
    "    gestation_weeks,\n",
    "    ABS(FARM_FINGERPRINT(CONCAT(CAST(YEAR AS STRING), CAST(month AS STRING)))) AS hashmonth\n",
    "FROM\n",
    "  publicdata.samples.natality\n",
    "WHERE\n",
    "  year > 2000\n",
    "  AND gestation_weeks > 0\n",
    "  AND mother_age > 0\n",
    "  AND plurality > 0\n",
    "  AND weight_pounds > 0\n",
    "LIMIT 10"
   ]
  },
  {
   "cell_type": "markdown",
   "metadata": {
    "colab_type": "text",
    "deletable": true,
    "editable": true,
    "id": "H-d7C8KcD5am"
   },
   "source": [
    "## Train Model\n",
    "\n",
    "With the relevant columns chosen to accomplish predictions, it is then possible to create (train) the model in BigQuery. First, a dataset will be needed store the model. (if this throws an error in Datalab, simply create the dataset from the BigQuery console)."
   ]
  },
  {
   "cell_type": "code",
   "execution_count": null,
   "metadata": {
    "colab": {
     "autoexec": {
      "startup": false,
      "wait_interval": 0
     }
    },
    "colab_type": "code",
    "collapsed": false,
    "deletable": true,
    "editable": true,
    "id": "bWMZJQdKD5an"
   },
   "outputs": [],
   "source": [
    "%%bash\n",
    "bq --location=US mk -d demo"
   ]
  },
  {
   "cell_type": "markdown",
   "metadata": {
    "colab_type": "text",
    "deletable": true,
    "editable": true,
    "id": "T9JZIQ9nD5ap"
   },
   "source": [
    "With the demo dataset ready, it is possible to create a linear regression model to train the model.\n",
    "\n",
    "This will take approximately **4 minutes** to run and will show **Done** when complete."
   ]
  },
  {
   "cell_type": "code",
   "execution_count": 11,
   "metadata": {
    "colab": {
     "autoexec": {
      "startup": false,
      "wait_interval": 0
     }
    },
    "colab_type": "code",
    "collapsed": false,
    "deletable": true,
    "editable": true,
    "id": "V-UJOX0tD5aq",
    "outputId": "63aa219c-a14f-4db5-a271-2e614759fe1a"
   },
   "outputs": [
    {
     "data": {
      "text/html": [
       "Done"
      ],
      "text/plain": [
       "QueryResultsTable job_vkqBM5OZxKJzbr1KXngID4zUBSzj"
      ]
     },
     "execution_count": 11,
     "metadata": {},
     "output_type": "execute_result"
    }
   ],
   "source": [
    "%%bq query\n",
    "CREATE or REPLACE MODEL demo.babyweight_model_asis\n",
    "OPTIONS\n",
    "  (model_type='linear_reg', labels=['weight_pounds']) AS\n",
    "  \n",
    "WITH natality_data AS (\n",
    "  SELECT\n",
    "    weight_pounds,-- this is the label; because it is continuous, we need to use regression\n",
    "    CAST(is_male AS STRING) AS is_male,\n",
    "    mother_age,\n",
    "    CAST(plurality AS STRING) AS plurality,\n",
    "    gestation_weeks,\n",
    "    ABS(FARM_FINGERPRINT(CONCAT(CAST(YEAR AS STRING), CAST(month AS STRING)))) AS hashmonth\n",
    "  FROM\n",
    "    publicdata.samples.natality\n",
    "  WHERE\n",
    "    year > 2000\n",
    "    AND gestation_weeks > 0\n",
    "    AND mother_age > 0\n",
    "    AND plurality > 0\n",
    "    AND weight_pounds > 0\n",
    ")\n",
    "\n",
    "SELECT\n",
    "    weight_pounds,\n",
    "    is_male,\n",
    "    mother_age,\n",
    "    plurality,\n",
    "    gestation_weeks\n",
    "FROM\n",
    "    natality_data\n",
    "WHERE\n",
    "  MOD(hashmonth, 4) < 3  -- select 75% of the data as training"
   ]
  },
  {
   "cell_type": "markdown",
   "metadata": {
    "colab_type": "text",
    "deletable": true,
    "editable": true,
    "id": "mJYtGxWyD5at"
   },
   "source": [
    "## Training Statistics"
   ]
  },
  {
   "cell_type": "markdown",
   "metadata": {
    "colab_type": "text",
    "deletable": true,
    "editable": true,
    "id": "0L92s-gtD5au"
   },
   "source": [
    "During the model training (and after the training), it is possible to see the model's training evaluation statistics.\n",
    "\n",
    "For each training run, a table named `<model_name>_eval` is created. This table has basic performance statistics for each iteration.\n",
    "\n",
    "While the new model is training, review the training statistics in the BigQuery UI to see the below model training: https://bigquery.cloud.google.com/\n",
    "\n",
    "Since these statistics are updated after each iteration of model training, you will see different values for each refresh while the model is training.\n",
    "\n",
    "The training details may also be viewed after the training completes from this notebook."
   ]
  },
  {
   "cell_type": "code",
   "execution_count": 12,
   "metadata": {
    "colab": {
     "autoexec": {
      "startup": false,
      "wait_interval": 0
     }
    },
    "colab_type": "code",
    "collapsed": false,
    "deletable": true,
    "editable": true,
    "id": "ZbV6aDcRD5au",
    "outputId": "9518b192-2f7f-4b69-e612-2e3068f9925c"
   },
   "outputs": [
    {
     "data": {
      "text/html": [
       "\n",
       "    <div class=\"bqtv\" id=\"3_153211275633\"><table><tr><th>training_run</th><th>iteration</th><th>loss</th><th>eval_loss</th><th>duration_ms</th><th>learning_rate</th></tr><tr><td>0</td><td>5</td><td>1.13082175649</td><td>1.12667393796</td><td>98205</td><td>0.4</td></tr><tr><td>0</td><td>4</td><td>1.13242258421</td><td>1.1284767326</td><td>126255</td><td>0.8</td></tr><tr><td>0</td><td>3</td><td>1.14355263342</td><td>1.1400193056</td><td>99166</td><td>0.4</td></tr><tr><td>0</td><td>2</td><td>1.17905497472</td><td>1.17629137996</td><td>105757</td><td>0.4</td></tr><tr><td>0</td><td>1</td><td>1.57286336318</td><td>1.56866519873</td><td>98185</td><td>0.4</td></tr><tr><td>0</td><td>0</td><td>9.85574348435</td><td>9.86270726649</td><td>96382</td><td>0.2</td></tr></table></div>\n",
       "    <br />(rows: 6, time: 1.3s,     0B processed, job: job_No9S9g6EeX4EdQgdOtcF538SKZ2w)<br />\n",
       "    <script src=\"/static/components/requirejs/require.js\"></script>\n",
       "    <script>\n",
       "      require.config({\n",
       "        paths: {\n",
       "          base: '/static/base',\n",
       "          d3: '//cdnjs.cloudflare.com/ajax/libs/d3/3.4.13/d3',\n",
       "          plotly: 'https://cdn.plot.ly/plotly-1.5.1.min.js?noext',\n",
       "          jquery: '//ajax.googleapis.com/ajax/libs/jquery/2.0.0/jquery.min'\n",
       "        },\n",
       "        map: {\n",
       "          '*': {\n",
       "            datalab: 'nbextensions/gcpdatalab'\n",
       "          }\n",
       "        },\n",
       "        shim: {\n",
       "          plotly: {\n",
       "            deps: ['d3', 'jquery'],\n",
       "            exports: 'plotly'\n",
       "          }\n",
       "        }\n",
       "      });\n",
       "\n",
       "      require(['datalab/charting', 'datalab/element!3_153211275633', 'base/js/events',\n",
       "          'datalab/style!/nbextensions/gcpdatalab/charting.css'],\n",
       "        function(charts, dom, events) {\n",
       "          charts.render('gcharts', dom, events, 'table', [], {\"rows\": [{\"c\": [{\"v\": 0}, {\"v\": 5}, {\"v\": 1.1308217564943601}, {\"v\": 1.1266739379578838}, {\"v\": 98205}, {\"v\": 0.4}]}, {\"c\": [{\"v\": 0}, {\"v\": 4}, {\"v\": 1.132422584207838}, {\"v\": 1.128476732603407}, {\"v\": 126255}, {\"v\": 0.8}]}, {\"c\": [{\"v\": 0}, {\"v\": 3}, {\"v\": 1.1435526334186388}, {\"v\": 1.140019305602831}, {\"v\": 99166}, {\"v\": 0.4}]}, {\"c\": [{\"v\": 0}, {\"v\": 2}, {\"v\": 1.1790549747206402}, {\"v\": 1.176291379959877}, {\"v\": 105757}, {\"v\": 0.4}]}, {\"c\": [{\"v\": 0}, {\"v\": 1}, {\"v\": 1.5728633631832178}, {\"v\": 1.5686651987308018}, {\"v\": 98185}, {\"v\": 0.4}]}, {\"c\": [{\"v\": 0}, {\"v\": 0}, {\"v\": 9.85574348434752}, {\"v\": 9.86270726648676}, {\"v\": 96382}, {\"v\": 0.2}]}], \"cols\": [{\"type\": \"number\", \"id\": \"training_run\", \"label\": \"training_run\"}, {\"type\": \"number\", \"id\": \"iteration\", \"label\": \"iteration\"}, {\"type\": \"number\", \"id\": \"loss\", \"label\": \"loss\"}, {\"type\": \"number\", \"id\": \"eval_loss\", \"label\": \"eval_loss\"}, {\"type\": \"number\", \"id\": \"duration_ms\", \"label\": \"duration_ms\"}, {\"type\": \"number\", \"id\": \"learning_rate\", \"label\": \"learning_rate\"}]},\n",
       "            {\n",
       "              pageSize: 25,\n",
       "              cssClassNames:  {\n",
       "                tableRow: 'gchart-table-row',\n",
       "                headerRow: 'gchart-table-headerrow',\n",
       "                oddTableRow: 'gchart-table-oddrow',\n",
       "                selectedTableRow: 'gchart-table-selectedrow',\n",
       "                hoverTableRow: 'gchart-table-hoverrow',\n",
       "                tableCell: 'gchart-table-cell',\n",
       "                headerCell: 'gchart-table-headercell',\n",
       "                rowNumberCell: 'gchart-table-rownumcell'\n",
       "              }\n",
       "            },\n",
       "            {source_index: 2, fields: 'training_run,iteration,loss,eval_loss,duration_ms,learning_rate'},\n",
       "            0,\n",
       "            6);\n",
       "        }\n",
       "      );\n",
       "    </script>\n",
       "  "
      ],
      "text/plain": [
       "QueryResultsTable job_No9S9g6EeX4EdQgdOtcF538SKZ2w"
      ]
     },
     "execution_count": 12,
     "metadata": {},
     "output_type": "execute_result"
    }
   ],
   "source": [
    "%%bq query\n",
    "SELECT * FROM ML.TRAINING_INFO(MODEL demo.babyweight_model_asis);"
   ]
  },
  {
   "cell_type": "markdown",
   "metadata": {
    "colab_type": "text",
    "deletable": true,
    "editable": true,
    "id": "CATWu60vD5ay"
   },
   "source": [
    "Some of these columns are obvious although what do the non-specific ML columns mean (specific to BQML)?\n",
    "\n",
    "**training_run** - Will be zero for a newly created model. If the model is re-trained using warm_start, this will increment for each re-training.\n",
    "\n",
    "**iteration** - Number of the associated `training_run`, starting with zero for the first iteration.\n",
    "\n",
    "**duration_ms** - Indicates how long the iteration took (in ms).\n",
    "\n",
    "Note: You can also see these stats by refreshing the BigQuery UI window, finding the `<model_name>` table, selecting on it, and then the Training Stats sub-header.\n",
    "\n",
    "Let's plot the training and evaluation loss to see if the model has an overfit."
   ]
  },
  {
   "cell_type": "code",
   "execution_count": 13,
   "metadata": {
    "colab": {
     "autoexec": {
      "startup": false,
      "wait_interval": 0
     }
    },
    "colab_type": "code",
    "collapsed": false,
    "deletable": true,
    "editable": true,
    "id": "govNS3cyD5az",
    "outputId": "0187c121-e47e-4c85-e59e-00ada59c291f"
   },
   "outputs": [
    {
     "name": "stderr",
     "output_type": "stream",
     "text": [
      "/usr/local/envs/py2env/lib/python2.7/site-packages/matplotlib/font_manager.py:1320: UserWarning: findfont: Font family [u'sans-serif'] not found. Falling back to DejaVu Sans\n",
      "  (prop.get_family(), self.defaultFamily[fontext]))\n"
     ]
    },
    {
     "data": {
      "image/png": "[encoded data removed]",
      "text/plain": [
       "<matplotlib.figure.Figure at 0x7f67a354ea50>"
      ]
     },
     "metadata": {},
     "output_type": "display_data"
    }
   ],
   "source": [
    "import google.datalab.bigquery as bq\n",
    "df = bq.Query(\"SELECT * FROM ML.TRAINING_INFO(MODEL demo.babyweight_model_asis)\").execute().result().to_dataframe()\n",
    "# plot both lines in same graph\n",
    "import matplotlib.pyplot as plt\n",
    "plt.plot( 'iteration', 'loss', data=df, marker='o', color='orange', linewidth=2)\n",
    "plt.plot( 'iteration', 'eval_loss', data=df, marker='', color='green', linewidth=2, linestyle='dashed')\n",
    "plt.xlabel('iteration')\n",
    "plt.ylabel('loss')\n",
    "plt.legend();"
   ]
  },
  {
   "cell_type": "markdown",
   "metadata": {
    "colab_type": "text",
    "deletable": true,
    "editable": true,
    "id": "Add--LfeD5a2"
   },
   "source": [
    "As you can see, the training loss and evaluation loss are essentially identical. We do not seem to be overfitting."
   ]
  },
  {
   "cell_type": "markdown",
   "metadata": {
    "colab_type": "text",
    "deletable": true,
    "editable": true,
    "id": "9QPwMA_ZD5a3"
   },
   "source": [
    "## Make a Prediction with BQML using the Model"
   ]
  },
  {
   "cell_type": "markdown",
   "metadata": {
    "colab_type": "text",
    "deletable": true,
    "editable": true,
    "id": "9QBZxMb6D5a5"
   },
   "source": [
    "With a trained model, it is now possible to make a prediction on the values. The only difference from the second query above is the reference to the model. The data has been limited (`LIMIT 100`) to reduce amount of data returned.\n",
    "\n",
    "When the `ml.predict` function is leveraged, output prediction column name for the model is `predicted_<label_column_name>`."
   ]
  },
  {
   "cell_type": "code",
   "execution_count": 14,
   "metadata": {
    "colab": {
     "autoexec": {
      "startup": false,
      "wait_interval": 0
     }
    },
    "colab_type": "code",
    "collapsed": false,
    "deletable": true,
    "editable": true,
    "id": "x-hedqSeD5a6",
    "outputId": "e9bbeb43-900c-420a-8520-2feeccf79239"
   },
   "outputs": [
    {
     "data": {
      "text/html": [
       "\n",
       "    <div class=\"bqtv\" id=\"4_153211278097\"><table><tr><th>predicted_weight_pounds</th><th>weight_pounds</th><th>is_male</th><th>mother_age</th><th>plurality</th><th>gestation_weeks</th></tr><tr><td>3.92758220737</td><td>3.62439958728</td><td>true</td><td>26</td><td>1</td><td>25</td></tr><tr><td>5.91794435659</td><td>4.46877005074</td><td>true</td><td>24</td><td>1</td><td>33</td></tr><tr><td>5.89704728035</td><td>4.2108292042</td><td>true</td><td>23</td><td>1</td><td>33</td></tr><tr><td>6.40508635577</td><td>8.31363190002</td><td>true</td><td>23</td><td>1</td><td>35</td></tr><tr><td>6.42598343201</td><td>7.05920162924</td><td>true</td><td>24</td><td>1</td><td>35</td></tr><tr><td>6.76359127467</td><td>6.062712205</td><td>true</td><td>28</td><td>1</td><td>36</td></tr><tr><td>6.5546205123</td><td>5.74965579296</td><td>true</td><td>18</td><td>1</td><td>36</td></tr><tr><td>7.05940496486</td><td>7.3524164377</td><td>true</td><td>30</td><td>1</td><td>37</td></tr><tr><td>7.01761081238</td><td>6.6248909731</td><td>true</td><td>28</td><td>1</td><td>37</td></tr><tr><td>6.85043420249</td><td>6.7571683303</td><td>true</td><td>20</td><td>1</td><td>37</td></tr><tr><td>7.05940496486</td><td>7.68751907594</td><td>true</td><td>30</td><td>1</td><td>37</td></tr><tr><td>7.48060111246</td><td>7.3744626639</td><td>true</td><td>38</td><td>1</td><td>38</td></tr><tr><td>7.25073327386</td><td>9.81277528162</td><td>true</td><td>27</td><td>1</td><td>38</td></tr><tr><td>7.14624789267</td><td>8.12623897732</td><td>true</td><td>22</td><td>1</td><td>38</td></tr><tr><td>7.12535081644</td><td>8.81187661214</td><td>true</td><td>21</td><td>1</td><td>38</td></tr><tr><td>7.35521865504</td><td>6.91369653632</td><td>true</td><td>32</td><td>1</td><td>38</td></tr><tr><td>7.22983619762</td><td>8.68841774542</td><td>true</td><td>26</td><td>1</td><td>38</td></tr><tr><td>7.29252742633</td><td>7.1870697412</td><td>true</td><td>29</td><td>1</td><td>38</td></tr><tr><td>7.1044537402</td><td>6.4374980504</td><td>true</td><td>20</td><td>1</td><td>38</td></tr><tr><td>7.14624789267</td><td>6.9996768185</td><td>true</td><td>22</td><td>1</td><td>38</td></tr><tr><td>7.25073327386</td><td>6.67118804812</td><td>true</td><td>27</td><td>1</td><td>38</td></tr><tr><td>7.18804204515</td><td>6.6248909731</td><td>true</td><td>24</td><td>1</td><td>38</td></tr><tr><td>7.2957820492</td><td>7.25100379718</td><td>true</td><td>17</td><td>1</td><td>39</td></tr><tr><td>7.50475281157</td><td>7.5618555866</td><td>true</td><td>27</td><td>1</td><td>39</td></tr><tr><td>7.6928264977</td><td>7.87491199864</td><td>true</td><td>36</td><td>1</td><td>39</td></tr></table></div>\n",
       "    <br />(rows: 100, time: 1.8s,     0B processed, job: job_e39HFO9u7Ccr-sbTPhIGKvYcODKl)<br />\n",
       "    <script src=\"/static/components/requirejs/require.js\"></script>\n",
       "    <script>\n",
       "      require.config({\n",
       "        paths: {\n",
       "          base: '/static/base',\n",
       "          d3: '//cdnjs.cloudflare.com/ajax/libs/d3/3.4.13/d3',\n",
       "          plotly: 'https://cdn.plot.ly/plotly-1.5.1.min.js?noext',\n",
       "          jquery: '//ajax.googleapis.com/ajax/libs/jquery/2.0.0/jquery.min'\n",
       "        },\n",
       "        map: {\n",
       "          '*': {\n",
       "            datalab: 'nbextensions/gcpdatalab'\n",
       "          }\n",
       "        },\n",
       "        shim: {\n",
       "          plotly: {\n",
       "            deps: ['d3', 'jquery'],\n",
       "            exports: 'plotly'\n",
       "          }\n",
       "        }\n",
       "      });\n",
       "\n",
       "      require(['datalab/charting', 'datalab/element!4_153211278097', 'base/js/events',\n",
       "          'datalab/style!/nbextensions/gcpdatalab/charting.css'],\n",
       "        function(charts, dom, events) {\n",
       "          charts.render('gcharts', dom, events, 'paged_table', [], {\"rows\": [{\"c\": [{\"v\": 3.9275822073657296}, {\"v\": 3.62439958728}, {\"v\": \"true\"}, {\"v\": 26}, {\"v\": \"1\"}, {\"v\": 25}]}, {\"c\": [{\"v\": 5.9179443565872045}, {\"v\": 4.46877005074}, {\"v\": \"true\"}, {\"v\": 24}, {\"v\": \"1\"}, {\"v\": 33}]}, {\"c\": [{\"v\": 5.897047280350421}, {\"v\": 4.2108292041999995}, {\"v\": \"true\"}, {\"v\": 23}, {\"v\": \"1\"}, {\"v\": 33}]}, {\"c\": [{\"v\": 6.405086355774181}, {\"v\": 8.313631900019999}, {\"v\": \"true\"}, {\"v\": 23}, {\"v\": \"1\"}, {\"v\": 35}]}, {\"c\": [{\"v\": 6.425983432010964}, {\"v\": 7.0592016292399995}, {\"v\": \"true\"}, {\"v\": 24}, {\"v\": \"1\"}, {\"v\": 35}]}, {\"c\": [{\"v\": 6.763591274669976}, {\"v\": 6.0627122049999995}, {\"v\": \"true\"}, {\"v\": 28}, {\"v\": \"1\"}, {\"v\": 36}]}, {\"c\": [{\"v\": 6.5546205123021455}, {\"v\": 5.74965579296}, {\"v\": \"true\"}, {\"v\": 18}, {\"v\": \"1\"}, {\"v\": 36}]}, {\"c\": [{\"v\": 7.059404964855423}, {\"v\": 7.3524164377}, {\"v\": \"true\"}, {\"v\": 30}, {\"v\": \"1\"}, {\"v\": 37}]}, {\"c\": [{\"v\": 7.0176108123818555}, {\"v\": 6.6248909731}, {\"v\": \"true\"}, {\"v\": 28}, {\"v\": \"1\"}, {\"v\": 37}]}, {\"c\": [{\"v\": 6.850434202487591}, {\"v\": 6.7571683303}, {\"v\": \"true\"}, {\"v\": 20}, {\"v\": \"1\"}, {\"v\": 37}]}, {\"c\": [{\"v\": 7.059404964855423}, {\"v\": 7.68751907594}, {\"v\": \"true\"}, {\"v\": 30}, {\"v\": \"1\"}, {\"v\": 37}]}, {\"c\": [{\"v\": 7.480601112461567}, {\"v\": 7.3744626639}, {\"v\": \"true\"}, {\"v\": 38}, {\"v\": \"1\"}, {\"v\": 38}]}, {\"c\": [{\"v\": 7.250733273856953}, {\"v\": 9.81277528162}, {\"v\": \"true\"}, {\"v\": 27}, {\"v\": \"1\"}, {\"v\": 38}]}, {\"c\": [{\"v\": 7.146247892673037}, {\"v\": 8.12623897732}, {\"v\": \"true\"}, {\"v\": 22}, {\"v\": \"1\"}, {\"v\": 38}]}, {\"c\": [{\"v\": 7.125350816436255}, {\"v\": 8.811876612139999}, {\"v\": \"true\"}, {\"v\": 21}, {\"v\": \"1\"}, {\"v\": 38}]}, {\"c\": [{\"v\": 7.3552186550408685}, {\"v\": 6.91369653632}, {\"v\": \"true\"}, {\"v\": 32}, {\"v\": \"1\"}, {\"v\": 38}]}, {\"c\": [{\"v\": 7.22983619762017}, {\"v\": 8.68841774542}, {\"v\": \"true\"}, {\"v\": 26}, {\"v\": \"1\"}, {\"v\": 38}]}, {\"c\": [{\"v\": 7.292527426330519}, {\"v\": 7.1870697412}, {\"v\": \"true\"}, {\"v\": 29}, {\"v\": \"1\"}, {\"v\": 38}]}, {\"c\": [{\"v\": 7.104453740199471}, {\"v\": 6.4374980503999994}, {\"v\": \"true\"}, {\"v\": 20}, {\"v\": \"1\"}, {\"v\": 38}]}, {\"c\": [{\"v\": 7.146247892673037}, {\"v\": 6.9996768185}, {\"v\": \"true\"}, {\"v\": 22}, {\"v\": \"1\"}, {\"v\": 38}]}, {\"c\": [{\"v\": 7.250733273856953}, {\"v\": 6.671188048119999}, {\"v\": \"true\"}, {\"v\": 27}, {\"v\": \"1\"}, {\"v\": 38}]}, {\"c\": [{\"v\": 7.188042045146604}, {\"v\": 6.6248909731}, {\"v\": \"true\"}, {\"v\": 24}, {\"v\": \"1\"}, {\"v\": 38}]}, {\"c\": [{\"v\": 7.2957820492010015}, {\"v\": 7.25100379718}, {\"v\": \"true\"}, {\"v\": 17}, {\"v\": \"1\"}, {\"v\": 39}]}, {\"c\": [{\"v\": 7.504752811568833}, {\"v\": 7.5618555866}, {\"v\": \"true\"}, {\"v\": 27}, {\"v\": \"1\"}, {\"v\": 39}]}, {\"c\": [{\"v\": 7.69282649769988}, {\"v\": 7.87491199864}, {\"v\": \"true\"}, {\"v\": 36}, {\"v\": \"1\"}, {\"v\": 39}]}], \"cols\": [{\"type\": \"number\", \"id\": \"predicted_weight_pounds\", \"label\": \"predicted_weight_pounds\"}, {\"type\": \"number\", \"id\": \"weight_pounds\", \"label\": \"weight_pounds\"}, {\"type\": \"string\", \"id\": \"is_male\", \"label\": \"is_male\"}, {\"type\": \"number\", \"id\": \"mother_age\", \"label\": \"mother_age\"}, {\"type\": \"string\", \"id\": \"plurality\", \"label\": \"plurality\"}, {\"type\": \"number\", \"id\": \"gestation_weeks\", \"label\": \"gestation_weeks\"}]},\n",
       "            {\n",
       "              pageSize: 25,\n",
       "              cssClassNames:  {\n",
       "                tableRow: 'gchart-table-row',\n",
       "                headerRow: 'gchart-table-headerrow',\n",
       "                oddTableRow: 'gchart-table-oddrow',\n",
       "                selectedTableRow: 'gchart-table-selectedrow',\n",
       "                hoverTableRow: 'gchart-table-hoverrow',\n",
       "                tableCell: 'gchart-table-cell',\n",
       "                headerCell: 'gchart-table-headercell',\n",
       "                rowNumberCell: 'gchart-table-rownumcell'\n",
       "              }\n",
       "            },\n",
       "            {source_index: 3, fields: 'predicted_weight_pounds,weight_pounds,is_male,mother_age,plurality,gestation_weeks'},\n",
       "            0,\n",
       "            100);\n",
       "        }\n",
       "      );\n",
       "    </script>\n",
       "  "
      ],
      "text/plain": [
       "QueryResultsTable job_e39HFO9u7Ccr-sbTPhIGKvYcODKl"
      ]
     },
     "execution_count": 14,
     "metadata": {},
     "output_type": "execute_result"
    }
   ],
   "source": [
    "%%bq query\n",
    "SELECT\n",
    "  *\n",
    "FROM\n",
    "  ml.PREDICT(MODEL demo.babyweight_model_asis,\n",
    "      (SELECT\n",
    "        weight_pounds,\n",
    "        CAST(is_male AS STRING) AS is_male,\n",
    "        mother_age,\n",
    "        CAST(plurality AS STRING) AS plurality,\n",
    "        gestation_weeks\n",
    "      FROM\n",
    "        publicdata.samples.natality\n",
    "      WHERE\n",
    "        year > 2000\n",
    "        AND gestation_weeks > 0\n",
    "        AND mother_age > 0\n",
    "        AND plurality > 0\n",
    "        AND weight_pounds > 0\n",
    "    ))\n",
    "LIMIT 100"
   ]
  },
  {
   "cell_type": "markdown",
   "metadata": {
    "colab_type": "text",
    "deletable": true,
    "editable": true,
    "id": "0DZorSI-D5a9"
   },
   "source": [
    "# More advanced...\n",
    "\n",
    "In the original example, we were taking into account the idea that if no ultrasound has been performed, some of the features (e.g. is_male) will not be known. Therefore, we augmented the dataset with such masked features and trained a single model to deal with both these scenarios.\n",
    "\n",
    "In addition, during data exploration, we learned that the data size set for mothers older than 45 was quite sparse, so we will discretize the mother age."
   ]
  },
  {
   "cell_type": "code",
   "execution_count": 15,
   "metadata": {
    "colab": {
     "autoexec": {
      "startup": false,
      "wait_interval": 0
     }
    },
    "colab_type": "code",
    "collapsed": false,
    "deletable": true,
    "editable": true,
    "id": "SnNOrcMfD5a-",
    "outputId": "316cc091-ffd8-4dce-ae9c-b56fef884593"
   },
   "outputs": [
    {
     "data": {
      "text/html": [
       "\n",
       "    <div class=\"bqtv\" id=\"5_153211278992\"><table><tr><th>weight_pounds</th><th>is_male</th><th>mother_age</th><th>plurality</th><th>gestation_weeks</th><th>hashmonth</th></tr><tr><td>8.8074673669</td><td>true</td><td>39</td><td>1</td><td>42</td><td>1088037545023002395</td></tr><tr><td>7.3744626639</td><td>true</td><td>38</td><td>1</td><td>38</td><td>1088037545023002395</td></tr><tr><td>8.1350574678</td><td>true</td><td>20</td><td>1</td><td>39</td><td>6244544205302024223</td></tr><tr><td>7.25100379718</td><td>true</td><td>LOW</td><td>1</td><td>39</td><td>1525201076796226340</td></tr><tr><td>6.25671899556</td><td>true</td><td>29</td><td>1</td><td>41</td><td>7146494315947640619</td></tr><tr><td>7.62578964258</td><td>true</td><td>22</td><td>1</td><td>41</td><td>6392072535155213407</td></tr><tr><td>7.3524164377</td><td>true</td><td>30</td><td>1</td><td>37</td><td>8904940584331855459</td></tr><tr><td>9.0940683075</td><td>true</td><td>25</td><td>1</td><td>40</td><td>8904940584331855459</td></tr><tr><td>7.87491199864</td><td>true</td><td>36</td><td>1</td><td>39</td><td>7170969733900686954</td></tr><tr><td>7.5618555866</td><td>true</td><td>27</td><td>1</td><td>39</td><td>6691862025345277042</td></tr><tr><td>8.31363190002</td><td>true</td><td>23</td><td>1</td><td>35</td><td>2126480030009879160</td></tr><tr><td>8.06230492134</td><td>true</td><td>LOW</td><td>1</td><td>40</td><td>2126480030009879160</td></tr><tr><td>4.46877005074</td><td>true</td><td>24</td><td>1</td><td>33</td><td>2126480030009879160</td></tr><tr><td>8.12623897732</td><td>true</td><td>32</td><td>1</td><td>40</td><td>2126480030009879160</td></tr><tr><td>6.062712205</td><td>true</td><td>28</td><td>1</td><td>36</td><td>7108882242435606404</td></tr><tr><td>7.56846945446</td><td>true</td><td>22</td><td>1</td><td>46</td><td>1403073183891835564</td></tr><tr><td>7.12534030784</td><td>true</td><td>20</td><td>1</td><td>40</td><td>9068386407968572094</td></tr><tr><td>7.43839671988</td><td>false</td><td>31</td><td>1</td><td>38</td><td>6392072535155213407</td></tr><tr><td>5.43659938092</td><td>false</td><td>35</td><td>2</td><td>34</td><td>6392072535155213407</td></tr><tr><td>6.18837569434</td><td>false</td><td>20</td><td>1</td><td>40</td><td>8904940584331855459</td></tr><tr><td>8.06230492134</td><td>false</td><td>25</td><td>1</td><td>40</td><td>8904940584331855459</td></tr><tr><td>8.00057548798</td><td>false</td><td>27</td><td>1</td><td>40</td><td>7170969733900686954</td></tr><tr><td>6.0075966395</td><td>false</td><td>27</td><td>1</td><td>39</td><td>7170969733900686954</td></tr><tr><td>7.12534030784</td><td>false</td><td>34</td><td>1</td><td>40</td><td>7108882242435606404</td></tr><tr><td>6.56316153974</td><td>false</td><td>29</td><td>1</td><td>39</td><td>3408502330831153141</td></tr></table></div>\n",
       "    <br />(rows: 25, time: 1.6s,     6GB processed, job: job_0XT7nQDNhs0gRi-S33srgx_5ruwO)<br />\n",
       "    <script src=\"/static/components/requirejs/require.js\"></script>\n",
       "    <script>\n",
       "      require.config({\n",
       "        paths: {\n",
       "          base: '/static/base',\n",
       "          d3: '//cdnjs.cloudflare.com/ajax/libs/d3/3.4.13/d3',\n",
       "          plotly: 'https://cdn.plot.ly/plotly-1.5.1.min.js?noext',\n",
       "          jquery: '//ajax.googleapis.com/ajax/libs/jquery/2.0.0/jquery.min'\n",
       "        },\n",
       "        map: {\n",
       "          '*': {\n",
       "            datalab: 'nbextensions/gcpdatalab'\n",
       "          }\n",
       "        },\n",
       "        shim: {\n",
       "          plotly: {\n",
       "            deps: ['d3', 'jquery'],\n",
       "            exports: 'plotly'\n",
       "          }\n",
       "        }\n",
       "      });\n",
       "\n",
       "      require(['datalab/charting', 'datalab/element!5_153211278992', 'base/js/events',\n",
       "          'datalab/style!/nbextensions/gcpdatalab/charting.css'],\n",
       "        function(charts, dom, events) {\n",
       "          charts.render('gcharts', dom, events, 'table', [], {\"rows\": [{\"c\": [{\"v\": 8.8074673669}, {\"v\": \"true\"}, {\"v\": \"39\"}, {\"v\": \"1\"}, {\"v\": \"42\"}, {\"v\": 1088037545023002395}]}, {\"c\": [{\"v\": 7.3744626639}, {\"v\": \"true\"}, {\"v\": \"38\"}, {\"v\": \"1\"}, {\"v\": \"38\"}, {\"v\": 1088037545023002395}]}, {\"c\": [{\"v\": 8.1350574678}, {\"v\": \"true\"}, {\"v\": \"20\"}, {\"v\": \"1\"}, {\"v\": \"39\"}, {\"v\": 6244544205302024223}]}, {\"c\": [{\"v\": 7.25100379718}, {\"v\": \"true\"}, {\"v\": \"LOW\"}, {\"v\": \"1\"}, {\"v\": \"39\"}, {\"v\": 1525201076796226340}]}, {\"c\": [{\"v\": 6.25671899556}, {\"v\": \"true\"}, {\"v\": \"29\"}, {\"v\": \"1\"}, {\"v\": \"41\"}, {\"v\": 7146494315947640619}]}, {\"c\": [{\"v\": 7.62578964258}, {\"v\": \"true\"}, {\"v\": \"22\"}, {\"v\": \"1\"}, {\"v\": \"41\"}, {\"v\": 6392072535155213407}]}, {\"c\": [{\"v\": 7.3524164377}, {\"v\": \"true\"}, {\"v\": \"30\"}, {\"v\": \"1\"}, {\"v\": \"37\"}, {\"v\": 8904940584331855459}]}, {\"c\": [{\"v\": 9.0940683075}, {\"v\": \"true\"}, {\"v\": \"25\"}, {\"v\": \"1\"}, {\"v\": \"40\"}, {\"v\": 8904940584331855459}]}, {\"c\": [{\"v\": 7.87491199864}, {\"v\": \"true\"}, {\"v\": \"36\"}, {\"v\": \"1\"}, {\"v\": \"39\"}, {\"v\": 7170969733900686954}]}, {\"c\": [{\"v\": 7.5618555866}, {\"v\": \"true\"}, {\"v\": \"27\"}, {\"v\": \"1\"}, {\"v\": \"39\"}, {\"v\": 6691862025345277042}]}, {\"c\": [{\"v\": 8.313631900019999}, {\"v\": \"true\"}, {\"v\": \"23\"}, {\"v\": \"1\"}, {\"v\": \"35\"}, {\"v\": 2126480030009879160}]}, {\"c\": [{\"v\": 8.062304921339999}, {\"v\": \"true\"}, {\"v\": \"LOW\"}, {\"v\": \"1\"}, {\"v\": \"40\"}, {\"v\": 2126480030009879160}]}, {\"c\": [{\"v\": 4.46877005074}, {\"v\": \"true\"}, {\"v\": \"24\"}, {\"v\": \"1\"}, {\"v\": \"33\"}, {\"v\": 2126480030009879160}]}, {\"c\": [{\"v\": 8.12623897732}, {\"v\": \"true\"}, {\"v\": \"32\"}, {\"v\": \"1\"}, {\"v\": \"40\"}, {\"v\": 2126480030009879160}]}, {\"c\": [{\"v\": 6.0627122049999995}, {\"v\": \"true\"}, {\"v\": \"28\"}, {\"v\": \"1\"}, {\"v\": \"36\"}, {\"v\": 7108882242435606404}]}, {\"c\": [{\"v\": 7.56846945446}, {\"v\": \"true\"}, {\"v\": \"22\"}, {\"v\": \"1\"}, {\"v\": \"46\"}, {\"v\": 1403073183891835564}]}, {\"c\": [{\"v\": 7.12534030784}, {\"v\": \"true\"}, {\"v\": \"20\"}, {\"v\": \"1\"}, {\"v\": \"40\"}, {\"v\": 9068386407968572094}]}, {\"c\": [{\"v\": 7.43839671988}, {\"v\": \"false\"}, {\"v\": \"31\"}, {\"v\": \"1\"}, {\"v\": \"38\"}, {\"v\": 6392072535155213407}]}, {\"c\": [{\"v\": 5.43659938092}, {\"v\": \"false\"}, {\"v\": \"35\"}, {\"v\": \"2\"}, {\"v\": \"34\"}, {\"v\": 6392072535155213407}]}, {\"c\": [{\"v\": 6.1883756943399995}, {\"v\": \"false\"}, {\"v\": \"20\"}, {\"v\": \"1\"}, {\"v\": \"40\"}, {\"v\": 8904940584331855459}]}, {\"c\": [{\"v\": 8.062304921339999}, {\"v\": \"false\"}, {\"v\": \"25\"}, {\"v\": \"1\"}, {\"v\": \"40\"}, {\"v\": 8904940584331855459}]}, {\"c\": [{\"v\": 8.000575487979999}, {\"v\": \"false\"}, {\"v\": \"27\"}, {\"v\": \"1\"}, {\"v\": \"40\"}, {\"v\": 7170969733900686954}]}, {\"c\": [{\"v\": 6.0075966395}, {\"v\": \"false\"}, {\"v\": \"27\"}, {\"v\": \"1\"}, {\"v\": \"39\"}, {\"v\": 7170969733900686954}]}, {\"c\": [{\"v\": 7.12534030784}, {\"v\": \"false\"}, {\"v\": \"34\"}, {\"v\": \"1\"}, {\"v\": \"40\"}, {\"v\": 7108882242435606404}]}, {\"c\": [{\"v\": 6.56316153974}, {\"v\": \"false\"}, {\"v\": \"29\"}, {\"v\": \"1\"}, {\"v\": \"39\"}, {\"v\": 3408502330831153141}]}], \"cols\": [{\"type\": \"number\", \"id\": \"weight_pounds\", \"label\": \"weight_pounds\"}, {\"type\": \"string\", \"id\": \"is_male\", \"label\": \"is_male\"}, {\"type\": \"string\", \"id\": \"mother_age\", \"label\": \"mother_age\"}, {\"type\": \"string\", \"id\": \"plurality\", \"label\": \"plurality\"}, {\"type\": \"string\", \"id\": \"gestation_weeks\", \"label\": \"gestation_weeks\"}, {\"type\": \"number\", \"id\": \"hashmonth\", \"label\": \"hashmonth\"}]},\n",
       "            {\n",
       "              pageSize: 25,\n",
       "              cssClassNames:  {\n",
       "                tableRow: 'gchart-table-row',\n",
       "                headerRow: 'gchart-table-headerrow',\n",
       "                oddTableRow: 'gchart-table-oddrow',\n",
       "                selectedTableRow: 'gchart-table-selectedrow',\n",
       "                hoverTableRow: 'gchart-table-hoverrow',\n",
       "                tableCell: 'gchart-table-cell',\n",
       "                headerCell: 'gchart-table-headercell',\n",
       "                rowNumberCell: 'gchart-table-rownumcell'\n",
       "              }\n",
       "            },\n",
       "            {source_index: 4, fields: 'weight_pounds,is_male,mother_age,plurality,gestation_weeks,hashmonth'},\n",
       "            0,\n",
       "            25);\n",
       "        }\n",
       "      );\n",
       "    </script>\n",
       "  "
      ],
      "text/plain": [
       "QueryResultsTable job_0XT7nQDNhs0gRi-S33srgx_5ruwO"
      ]
     },
     "execution_count": 15,
     "metadata": {},
     "output_type": "execute_result"
    }
   ],
   "source": [
    "%%bq query\n",
    "SELECT\n",
    "    weight_pounds,\n",
    "    CAST(is_male AS STRING) AS is_male,\n",
    "    IF(mother_age < 18, 'LOW',\n",
    "         IF(mother_age > 45, 'HIGH',\n",
    "            CAST(mother_age AS STRING))) AS mother_age,\n",
    "    CAST(plurality AS STRING) AS plurality,\n",
    "    CAST(gestation_weeks AS STRING) AS gestation_weeks,\n",
    "    ABS(FARM_FINGERPRINT(CONCAT(CAST(YEAR AS STRING), CAST(month AS STRING)))) AS hashmonth\n",
    "  FROM\n",
    "    publicdata.samples.natality\n",
    "  WHERE\n",
    "    year > 2000\n",
    "    AND gestation_weeks > 0\n",
    "    AND mother_age > 0\n",
    "    AND plurality > 0\n",
    "    AND weight_pounds > 0\n",
    "LIMIT 25"
   ]
  },
  {
   "cell_type": "markdown",
   "metadata": {
    "colab_type": "text",
    "deletable": true,
    "editable": true,
    "id": "ZwetSzIeD5bC"
   },
   "source": [
    "On the same dataset, will also suppose that it is unknown whether the child is male or female (on the same dataset) to simulate that an ultrasound was not been performed."
   ]
  },
  {
   "cell_type": "code",
   "execution_count": 16,
   "metadata": {
    "colab": {
     "autoexec": {
      "startup": false,
      "wait_interval": 0
     }
    },
    "colab_type": "code",
    "collapsed": false,
    "deletable": true,
    "editable": true,
    "id": "Y_MSEYqBD5bC",
    "outputId": "22f63e28-93c6-4086-f3f8-68e5ffdaa364"
   },
   "outputs": [
    {
     "data": {
      "text/html": [
       "\n",
       "    <div class=\"bqtv\" id=\"6_153211279667\"><table><tr><th>weight_pounds</th><th>is_male</th><th>mother_age</th><th>plurality</th><th>gestation_weeks</th><th>hashmonth</th></tr><tr><td>7.06140625186</td><td>Unknown</td><td>34</td><td>Single</td><td>37</td><td>1088037545023002395</td></tr><tr><td>6.9996768185</td><td>Unknown</td><td>23</td><td>Single</td><td>40</td><td>1088037545023002395</td></tr><tr><td>9.36082764452</td><td>Unknown</td><td>32</td><td>Single</td><td>41</td><td>1088037545023002395</td></tr><tr><td>6.12444163836</td><td>Unknown</td><td>24</td><td>Single</td><td>40</td><td>6244544205302024223</td></tr><tr><td>9.37405538024</td><td>Unknown</td><td>34</td><td>Single</td><td>40</td><td>1525201076796226340</td></tr><tr><td>6.2501051277</td><td>Unknown</td><td>30</td><td>Single</td><td>38</td><td>8904940584331855459</td></tr><tr><td>7.1870697412</td><td>Unknown</td><td>34</td><td>Single</td><td>39</td><td>8904940584331855459</td></tr><tr><td>6.68662040646</td><td>Unknown</td><td>18</td><td>Single</td><td>43</td><td>8904940584331855459</td></tr><tr><td>7.8153871879</td><td>Unknown</td><td>28</td><td>Single</td><td>38</td><td>7170969733900686954</td></tr><tr><td>7.62578964258</td><td>Unknown</td><td>20</td><td>Single</td><td>34</td><td>6691862025345277042</td></tr><tr><td>6.944561253</td><td>Unknown</td><td>31</td><td>Single</td><td>40</td><td>2126480030009879160</td></tr><tr><td>6.6248909731</td><td>Unknown</td><td>35</td><td>Single</td><td>40</td><td>2126480030009879160</td></tr><tr><td>6.9996768185</td><td>Unknown</td><td>37</td><td>Single</td><td>40</td><td>2126480030009879160</td></tr><tr><td>7.50012615324</td><td>Unknown</td><td>LOW</td><td>Single</td><td>40</td><td>7108882242435606404</td></tr><tr><td>7.50012615324</td><td>Unknown</td><td>30</td><td>Single</td><td>38</td><td>5896567601480310696</td></tr><tr><td>8.43709076674</td><td>Unknown</td><td>30</td><td>Single</td><td>39</td><td>5896567601480310696</td></tr><tr><td>7.40532738058</td><td>Unknown</td><td>22</td><td>Single</td><td>39</td><td>5896567601480310696</td></tr><tr><td>7.936641432</td><td>Unknown</td><td>33</td><td>Single</td><td>39</td><td>1403073183891835564</td></tr><tr><td>7.87491199864</td><td>Unknown</td><td>27</td><td>Single</td><td>39</td><td>1403073183891835564</td></tr><tr><td>7.1870697412</td><td>Unknown</td><td>23</td><td>Single</td><td>40</td><td>1403073183891835564</td></tr><tr><td>6.93574276252</td><td>Unknown</td><td>32</td><td>Single</td><td>41</td><td>1403073183891835564</td></tr><tr><td>8.24969784404</td><td>Unknown</td><td>24</td><td>Single</td><td>39</td><td>9068386407968572094</td></tr><tr><td>7.12534030784</td><td>Unknown</td><td>26</td><td>Single</td><td>41</td><td>8029892925374153452</td></tr><tr><td>6.9996768185</td><td>Unknown</td><td>34</td><td>Single</td><td>38</td><td>3408502330831153141</td></tr><tr><td>8.37315671076</td><td>Unknown</td><td>33</td><td>Single</td><td>40</td><td>3408502330831153141</td></tr></table></div>\n",
       "    <br />(rows: 25, time: 1.4s,     6GB processed, job: job_hGtrg2opHeilvzVEsw9mNEtKNCzv)<br />\n",
       "    <script src=\"/static/components/requirejs/require.js\"></script>\n",
       "    <script>\n",
       "      require.config({\n",
       "        paths: {\n",
       "          base: '/static/base',\n",
       "          d3: '//cdnjs.cloudflare.com/ajax/libs/d3/3.4.13/d3',\n",
       "          plotly: 'https://cdn.plot.ly/plotly-1.5.1.min.js?noext',\n",
       "          jquery: '//ajax.googleapis.com/ajax/libs/jquery/2.0.0/jquery.min'\n",
       "        },\n",
       "        map: {\n",
       "          '*': {\n",
       "            datalab: 'nbextensions/gcpdatalab'\n",
       "          }\n",
       "        },\n",
       "        shim: {\n",
       "          plotly: {\n",
       "            deps: ['d3', 'jquery'],\n",
       "            exports: 'plotly'\n",
       "          }\n",
       "        }\n",
       "      });\n",
       "\n",
       "      require(['datalab/charting', 'datalab/element!6_153211279667', 'base/js/events',\n",
       "          'datalab/style!/nbextensions/gcpdatalab/charting.css'],\n",
       "        function(charts, dom, events) {\n",
       "          charts.render('gcharts', dom, events, 'table', [], {\"rows\": [{\"c\": [{\"v\": 7.06140625186}, {\"v\": \"Unknown\"}, {\"v\": \"34\"}, {\"v\": \"Single\"}, {\"v\": \"37\"}, {\"v\": 1088037545023002395}]}, {\"c\": [{\"v\": 6.9996768185}, {\"v\": \"Unknown\"}, {\"v\": \"23\"}, {\"v\": \"Single\"}, {\"v\": \"40\"}, {\"v\": 1088037545023002395}]}, {\"c\": [{\"v\": 9.36082764452}, {\"v\": \"Unknown\"}, {\"v\": \"32\"}, {\"v\": \"Single\"}, {\"v\": \"41\"}, {\"v\": 1088037545023002395}]}, {\"c\": [{\"v\": 6.1244416383599996}, {\"v\": \"Unknown\"}, {\"v\": \"24\"}, {\"v\": \"Single\"}, {\"v\": \"40\"}, {\"v\": 6244544205302024223}]}, {\"c\": [{\"v\": 9.37405538024}, {\"v\": \"Unknown\"}, {\"v\": \"34\"}, {\"v\": \"Single\"}, {\"v\": \"40\"}, {\"v\": 1525201076796226340}]}, {\"c\": [{\"v\": 6.2501051276999995}, {\"v\": \"Unknown\"}, {\"v\": \"30\"}, {\"v\": \"Single\"}, {\"v\": \"38\"}, {\"v\": 8904940584331855459}]}, {\"c\": [{\"v\": 7.1870697412}, {\"v\": \"Unknown\"}, {\"v\": \"34\"}, {\"v\": \"Single\"}, {\"v\": \"39\"}, {\"v\": 8904940584331855459}]}, {\"c\": [{\"v\": 6.686620406459999}, {\"v\": \"Unknown\"}, {\"v\": \"18\"}, {\"v\": \"Single\"}, {\"v\": \"43\"}, {\"v\": 8904940584331855459}]}, {\"c\": [{\"v\": 7.8153871879}, {\"v\": \"Unknown\"}, {\"v\": \"28\"}, {\"v\": \"Single\"}, {\"v\": \"38\"}, {\"v\": 7170969733900686954}]}, {\"c\": [{\"v\": 7.62578964258}, {\"v\": \"Unknown\"}, {\"v\": \"20\"}, {\"v\": \"Single\"}, {\"v\": \"34\"}, {\"v\": 6691862025345277042}]}, {\"c\": [{\"v\": 6.944561253}, {\"v\": \"Unknown\"}, {\"v\": \"31\"}, {\"v\": \"Single\"}, {\"v\": \"40\"}, {\"v\": 2126480030009879160}]}, {\"c\": [{\"v\": 6.6248909731}, {\"v\": \"Unknown\"}, {\"v\": \"35\"}, {\"v\": \"Single\"}, {\"v\": \"40\"}, {\"v\": 2126480030009879160}]}, {\"c\": [{\"v\": 6.9996768185}, {\"v\": \"Unknown\"}, {\"v\": \"37\"}, {\"v\": \"Single\"}, {\"v\": \"40\"}, {\"v\": 2126480030009879160}]}, {\"c\": [{\"v\": 7.50012615324}, {\"v\": \"Unknown\"}, {\"v\": \"LOW\"}, {\"v\": \"Single\"}, {\"v\": \"40\"}, {\"v\": 7108882242435606404}]}, {\"c\": [{\"v\": 7.50012615324}, {\"v\": \"Unknown\"}, {\"v\": \"30\"}, {\"v\": \"Single\"}, {\"v\": \"38\"}, {\"v\": 5896567601480310696}]}, {\"c\": [{\"v\": 8.437090766739999}, {\"v\": \"Unknown\"}, {\"v\": \"30\"}, {\"v\": \"Single\"}, {\"v\": \"39\"}, {\"v\": 5896567601480310696}]}, {\"c\": [{\"v\": 7.40532738058}, {\"v\": \"Unknown\"}, {\"v\": \"22\"}, {\"v\": \"Single\"}, {\"v\": \"39\"}, {\"v\": 5896567601480310696}]}, {\"c\": [{\"v\": 7.936641432}, {\"v\": \"Unknown\"}, {\"v\": \"33\"}, {\"v\": \"Single\"}, {\"v\": \"39\"}, {\"v\": 1403073183891835564}]}, {\"c\": [{\"v\": 7.87491199864}, {\"v\": \"Unknown\"}, {\"v\": \"27\"}, {\"v\": \"Single\"}, {\"v\": \"39\"}, {\"v\": 1403073183891835564}]}, {\"c\": [{\"v\": 7.1870697412}, {\"v\": \"Unknown\"}, {\"v\": \"23\"}, {\"v\": \"Single\"}, {\"v\": \"40\"}, {\"v\": 1403073183891835564}]}, {\"c\": [{\"v\": 6.935742762519999}, {\"v\": \"Unknown\"}, {\"v\": \"32\"}, {\"v\": \"Single\"}, {\"v\": \"41\"}, {\"v\": 1403073183891835564}]}, {\"c\": [{\"v\": 8.24969784404}, {\"v\": \"Unknown\"}, {\"v\": \"24\"}, {\"v\": \"Single\"}, {\"v\": \"39\"}, {\"v\": 9068386407968572094}]}, {\"c\": [{\"v\": 7.12534030784}, {\"v\": \"Unknown\"}, {\"v\": \"26\"}, {\"v\": \"Single\"}, {\"v\": \"41\"}, {\"v\": 8029892925374153452}]}, {\"c\": [{\"v\": 6.9996768185}, {\"v\": \"Unknown\"}, {\"v\": \"34\"}, {\"v\": \"Single\"}, {\"v\": \"38\"}, {\"v\": 3408502330831153141}]}, {\"c\": [{\"v\": 8.37315671076}, {\"v\": \"Unknown\"}, {\"v\": \"33\"}, {\"v\": \"Single\"}, {\"v\": \"40\"}, {\"v\": 3408502330831153141}]}], \"cols\": [{\"type\": \"number\", \"id\": \"weight_pounds\", \"label\": \"weight_pounds\"}, {\"type\": \"string\", \"id\": \"is_male\", \"label\": \"is_male\"}, {\"type\": \"string\", \"id\": \"mother_age\", \"label\": \"mother_age\"}, {\"type\": \"string\", \"id\": \"plurality\", \"label\": \"plurality\"}, {\"type\": \"string\", \"id\": \"gestation_weeks\", \"label\": \"gestation_weeks\"}, {\"type\": \"number\", \"id\": \"hashmonth\", \"label\": \"hashmonth\"}]},\n",
       "            {\n",
       "              pageSize: 25,\n",
       "              cssClassNames:  {\n",
       "                tableRow: 'gchart-table-row',\n",
       "                headerRow: 'gchart-table-headerrow',\n",
       "                oddTableRow: 'gchart-table-oddrow',\n",
       "                selectedTableRow: 'gchart-table-selectedrow',\n",
       "                hoverTableRow: 'gchart-table-hoverrow',\n",
       "                tableCell: 'gchart-table-cell',\n",
       "                headerCell: 'gchart-table-headercell',\n",
       "                rowNumberCell: 'gchart-table-rownumcell'\n",
       "              }\n",
       "            },\n",
       "            {source_index: 5, fields: 'weight_pounds,is_male,mother_age,plurality,gestation_weeks,hashmonth'},\n",
       "            0,\n",
       "            25);\n",
       "        }\n",
       "      );\n",
       "    </script>\n",
       "  "
      ],
      "text/plain": [
       "QueryResultsTable job_hGtrg2opHeilvzVEsw9mNEtKNCzv"
      ]
     },
     "execution_count": 16,
     "metadata": {},
     "output_type": "execute_result"
    }
   ],
   "source": [
    "%%bq query\n",
    "SELECT\n",
    "    weight_pounds,\n",
    "    'Unknown' AS is_male,\n",
    "    IF(mother_age < 18, 'LOW',\n",
    "         IF(mother_age > 45, 'HIGH',\n",
    "            CAST(mother_age AS STRING))) AS mother_age,\n",
    "    IF(plurality > 1, 'Multiple', 'Single') AS plurality,\n",
    "    CAST(gestation_weeks AS STRING) AS gestation_weeks,\n",
    "    ABS(FARM_FINGERPRINT(CONCAT(CAST(YEAR AS STRING), CAST(month AS STRING)))) AS hashmonth\n",
    "  FROM\n",
    "    publicdata.samples.natality\n",
    "  WHERE\n",
    "    year > 2000\n",
    "    AND gestation_weeks > 0\n",
    "    AND mother_age > 0\n",
    "    AND plurality > 0\n",
    "    AND weight_pounds > 0\n",
    "LIMIT 25"
   ]
  },
  {
   "cell_type": "markdown",
   "metadata": {
    "colab_type": "text",
    "deletable": true,
    "editable": true,
    "id": "MmY2chPyD5bI"
   },
   "source": [
    "Bringing these two separate data sets together, there is now a dataset for male or female children determined with ultrasound or unknown if without. "
   ]
  },
  {
   "cell_type": "code",
   "execution_count": 17,
   "metadata": {
    "colab": {
     "autoexec": {
      "startup": false,
      "wait_interval": 0
     }
    },
    "colab_type": "code",
    "collapsed": false,
    "deletable": true,
    "editable": true,
    "id": "2XblYiMVD5bJ",
    "outputId": "38526c88-c10d-499d-f187-2296647cc1c7"
   },
   "outputs": [
    {
     "data": {
      "text/html": [
       "\n",
       "    <div class=\"bqtv\" id=\"7_153211280430\"><table><tr><th>weight_pounds</th><th>is_male</th><th>mother_age</th><th>plurality</th><th>gestation_weeks</th></tr><tr><td>4.68702769012</td><td>Unknown</td><td>30</td><td>Multiple</td><td>33</td></tr><tr><td>7.06361087448</td><td>Unknown</td><td>32</td><td>Single</td><td>37</td></tr><tr><td>7.5618555866</td><td>Unknown</td><td>31</td><td>Single</td><td>37</td></tr><tr><td>7.25100379718</td><td>Unknown</td><td>33</td><td>Single</td><td>37</td></tr><tr><td>5.8312268299</td><td>Unknown</td><td>27</td><td>Single</td><td>37</td></tr><tr><td>8.75014717878</td><td>Unknown</td><td>24</td><td>Single</td><td>38</td></tr><tr><td>8.8736060455</td><td>Unknown</td><td>30</td><td>Single</td><td>38</td></tr><tr><td>6.05389371452</td><td>Unknown</td><td>LOW</td><td>Single</td><td>38</td></tr><tr><td>7.50012615324</td><td>Unknown</td><td>23</td><td>Single</td><td>39</td></tr><tr><td>6.93794738514</td><td>Unknown</td><td>23</td><td>Single</td><td>39</td></tr><tr><td>10.7254890463</td><td>Unknown</td><td>28</td><td>Single</td><td>39</td></tr><tr><td>8.6200744442</td><td>Unknown</td><td>31</td><td>Single</td><td>39</td></tr><tr><td>7.89034435698</td><td>Unknown</td><td>31</td><td>Single</td><td>39</td></tr><tr><td>6.062712205</td><td>Unknown</td><td>19</td><td>Single</td><td>39</td></tr><tr><td>7.31273323054</td><td>Unknown</td><td>32</td><td>Single</td><td>40</td></tr><tr><td>7.6279942652</td><td>Unknown</td><td>30</td><td>Single</td><td>40</td></tr><tr><td>7.7492485093</td><td>Unknown</td><td>22</td><td>Single</td><td>40</td></tr><tr><td>8.75014717878</td><td>Unknown</td><td>34</td><td>Single</td><td>40</td></tr><tr><td>7.7492485093</td><td>Unknown</td><td>30</td><td>Single</td><td>40</td></tr><tr><td>6.2280589015</td><td>Unknown</td><td>18</td><td>Single</td><td>40</td></tr><tr><td>7.12534030784</td><td>Unknown</td><td>25</td><td>Single</td><td>41</td></tr><tr><td>6.2501051277</td><td>Unknown</td><td>28</td><td>Single</td><td>41</td></tr><tr><td>7.7602716224</td><td>Unknown</td><td>34</td><td>Single</td><td>43</td></tr><tr><td>6.9114919137</td><td>Unknown</td><td>24</td><td>Single</td><td>45</td></tr><tr><td>5.62399230362</td><td>Unknown</td><td>29</td><td>Single</td><td>47</td></tr></table></div>\n",
       "    <br />(rows: 25, time: 1.6s,     6GB processed, job: job_QE5oV7jaNvRyUgjJmWGu53cOiywf)<br />\n",
       "    <script src=\"/static/components/requirejs/require.js\"></script>\n",
       "    <script>\n",
       "      require.config({\n",
       "        paths: {\n",
       "          base: '/static/base',\n",
       "          d3: '//cdnjs.cloudflare.com/ajax/libs/d3/3.4.13/d3',\n",
       "          plotly: 'https://cdn.plot.ly/plotly-1.5.1.min.js?noext',\n",
       "          jquery: '//ajax.googleapis.com/ajax/libs/jquery/2.0.0/jquery.min'\n",
       "        },\n",
       "        map: {\n",
       "          '*': {\n",
       "            datalab: 'nbextensions/gcpdatalab'\n",
       "          }\n",
       "        },\n",
       "        shim: {\n",
       "          plotly: {\n",
       "            deps: ['d3', 'jquery'],\n",
       "            exports: 'plotly'\n",
       "          }\n",
       "        }\n",
       "      });\n",
       "\n",
       "      require(['datalab/charting', 'datalab/element!7_153211280430', 'base/js/events',\n",
       "          'datalab/style!/nbextensions/gcpdatalab/charting.css'],\n",
       "        function(charts, dom, events) {\n",
       "          charts.render('gcharts', dom, events, 'table', [], {\"rows\": [{\"c\": [{\"v\": 4.68702769012}, {\"v\": \"Unknown\"}, {\"v\": \"30\"}, {\"v\": \"Multiple\"}, {\"v\": \"33\"}]}, {\"c\": [{\"v\": 7.06361087448}, {\"v\": \"Unknown\"}, {\"v\": \"32\"}, {\"v\": \"Single\"}, {\"v\": \"37\"}]}, {\"c\": [{\"v\": 7.5618555866}, {\"v\": \"Unknown\"}, {\"v\": \"31\"}, {\"v\": \"Single\"}, {\"v\": \"37\"}]}, {\"c\": [{\"v\": 7.25100379718}, {\"v\": \"Unknown\"}, {\"v\": \"33\"}, {\"v\": \"Single\"}, {\"v\": \"37\"}]}, {\"c\": [{\"v\": 5.8312268299}, {\"v\": \"Unknown\"}, {\"v\": \"27\"}, {\"v\": \"Single\"}, {\"v\": \"37\"}]}, {\"c\": [{\"v\": 8.75014717878}, {\"v\": \"Unknown\"}, {\"v\": \"24\"}, {\"v\": \"Single\"}, {\"v\": \"38\"}]}, {\"c\": [{\"v\": 8.873606045499999}, {\"v\": \"Unknown\"}, {\"v\": \"30\"}, {\"v\": \"Single\"}, {\"v\": \"38\"}]}, {\"c\": [{\"v\": 6.05389371452}, {\"v\": \"Unknown\"}, {\"v\": \"LOW\"}, {\"v\": \"Single\"}, {\"v\": \"38\"}]}, {\"c\": [{\"v\": 7.50012615324}, {\"v\": \"Unknown\"}, {\"v\": \"23\"}, {\"v\": \"Single\"}, {\"v\": \"39\"}]}, {\"c\": [{\"v\": 6.93794738514}, {\"v\": \"Unknown\"}, {\"v\": \"23\"}, {\"v\": \"Single\"}, {\"v\": \"39\"}]}, {\"c\": [{\"v\": 10.7254890463}, {\"v\": \"Unknown\"}, {\"v\": \"28\"}, {\"v\": \"Single\"}, {\"v\": \"39\"}]}, {\"c\": [{\"v\": 8.6200744442}, {\"v\": \"Unknown\"}, {\"v\": \"31\"}, {\"v\": \"Single\"}, {\"v\": \"39\"}]}, {\"c\": [{\"v\": 7.89034435698}, {\"v\": \"Unknown\"}, {\"v\": \"31\"}, {\"v\": \"Single\"}, {\"v\": \"39\"}]}, {\"c\": [{\"v\": 6.0627122049999995}, {\"v\": \"Unknown\"}, {\"v\": \"19\"}, {\"v\": \"Single\"}, {\"v\": \"39\"}]}, {\"c\": [{\"v\": 7.31273323054}, {\"v\": \"Unknown\"}, {\"v\": \"32\"}, {\"v\": \"Single\"}, {\"v\": \"40\"}]}, {\"c\": [{\"v\": 7.6279942652}, {\"v\": \"Unknown\"}, {\"v\": \"30\"}, {\"v\": \"Single\"}, {\"v\": \"40\"}]}, {\"c\": [{\"v\": 7.7492485093}, {\"v\": \"Unknown\"}, {\"v\": \"22\"}, {\"v\": \"Single\"}, {\"v\": \"40\"}]}, {\"c\": [{\"v\": 8.75014717878}, {\"v\": \"Unknown\"}, {\"v\": \"34\"}, {\"v\": \"Single\"}, {\"v\": \"40\"}]}, {\"c\": [{\"v\": 7.7492485093}, {\"v\": \"Unknown\"}, {\"v\": \"30\"}, {\"v\": \"Single\"}, {\"v\": \"40\"}]}, {\"c\": [{\"v\": 6.2280589015}, {\"v\": \"Unknown\"}, {\"v\": \"18\"}, {\"v\": \"Single\"}, {\"v\": \"40\"}]}, {\"c\": [{\"v\": 7.12534030784}, {\"v\": \"Unknown\"}, {\"v\": \"25\"}, {\"v\": \"Single\"}, {\"v\": \"41\"}]}, {\"c\": [{\"v\": 6.2501051276999995}, {\"v\": \"Unknown\"}, {\"v\": \"28\"}, {\"v\": \"Single\"}, {\"v\": \"41\"}]}, {\"c\": [{\"v\": 7.7602716223999995}, {\"v\": \"Unknown\"}, {\"v\": \"34\"}, {\"v\": \"Single\"}, {\"v\": \"43\"}]}, {\"c\": [{\"v\": 6.9114919137}, {\"v\": \"Unknown\"}, {\"v\": \"24\"}, {\"v\": \"Single\"}, {\"v\": \"45\"}]}, {\"c\": [{\"v\": 5.62399230362}, {\"v\": \"Unknown\"}, {\"v\": \"29\"}, {\"v\": \"Single\"}, {\"v\": \"47\"}]}], \"cols\": [{\"type\": \"number\", \"id\": \"weight_pounds\", \"label\": \"weight_pounds\"}, {\"type\": \"string\", \"id\": \"is_male\", \"label\": \"is_male\"}, {\"type\": \"string\", \"id\": \"mother_age\", \"label\": \"mother_age\"}, {\"type\": \"string\", \"id\": \"plurality\", \"label\": \"plurality\"}, {\"type\": \"string\", \"id\": \"gestation_weeks\", \"label\": \"gestation_weeks\"}]},\n",
       "            {\n",
       "              pageSize: 25,\n",
       "              cssClassNames:  {\n",
       "                tableRow: 'gchart-table-row',\n",
       "                headerRow: 'gchart-table-headerrow',\n",
       "                oddTableRow: 'gchart-table-oddrow',\n",
       "                selectedTableRow: 'gchart-table-selectedrow',\n",
       "                hoverTableRow: 'gchart-table-hoverrow',\n",
       "                tableCell: 'gchart-table-cell',\n",
       "                headerCell: 'gchart-table-headercell',\n",
       "                rowNumberCell: 'gchart-table-rownumcell'\n",
       "              }\n",
       "            },\n",
       "            {source_index: 6, fields: 'weight_pounds,is_male,mother_age,plurality,gestation_weeks'},\n",
       "            0,\n",
       "            25);\n",
       "        }\n",
       "      );\n",
       "    </script>\n",
       "  "
      ],
      "text/plain": [
       "QueryResultsTable job_QE5oV7jaNvRyUgjJmWGu53cOiywf"
      ]
     },
     "execution_count": 17,
     "metadata": {},
     "output_type": "execute_result"
    }
   ],
   "source": [
    "%%bq query\n",
    "WITH with_ultrasound AS (\n",
    "  SELECT\n",
    "    weight_pounds,\n",
    "    CAST(is_male AS STRING) AS is_male,\n",
    "    IF(mother_age < 18, 'LOW',\n",
    "         IF(mother_age > 45, 'HIGH',\n",
    "            CAST(mother_age AS STRING))) AS mother_age,\n",
    "    CAST(plurality AS STRING) AS plurality,\n",
    "    CAST(gestation_weeks AS STRING) AS gestation_weeks,\n",
    "    ABS(FARM_FINGERPRINT(CONCAT(CAST(YEAR AS STRING), CAST(month AS STRING)))) AS hashmonth\n",
    "  FROM\n",
    "    publicdata.samples.natality\n",
    "  WHERE\n",
    "    year > 2000\n",
    "    AND gestation_weeks > 0\n",
    "    AND mother_age > 0\n",
    "    AND plurality > 0\n",
    "    AND weight_pounds > 0\n",
    "),\n",
    "\n",
    "without_ultrasound AS (\n",
    "  SELECT\n",
    "    weight_pounds,\n",
    "    'Unknown' AS is_male,\n",
    "    IF(mother_age < 18, 'LOW',\n",
    "         IF(mother_age > 45, 'HIGH',\n",
    "            CAST(mother_age AS STRING))) AS mother_age,\n",
    "    IF(plurality > 1, 'Multiple', 'Single') AS plurality,\n",
    "    CAST(gestation_weeks AS STRING) AS gestation_weeks,\n",
    "    ABS(FARM_FINGERPRINT(CONCAT(CAST(YEAR AS STRING), CAST(month AS STRING)))) AS hashmonth\n",
    "  FROM\n",
    "    publicdata.samples.natality\n",
    "  WHERE\n",
    "    year > 2000\n",
    "    AND gestation_weeks > 0\n",
    "    AND mother_age > 0\n",
    "    AND plurality > 0\n",
    "    AND weight_pounds > 0\n",
    "),\n",
    "\n",
    "preprocessed AS (\n",
    "  SELECT * from with_ultrasound\n",
    "  UNION ALL\n",
    "  SELECT * from without_ultrasound\n",
    ")\n",
    "\n",
    "SELECT\n",
    "    weight_pounds,\n",
    "    is_male,\n",
    "    mother_age,\n",
    "    plurality,\n",
    "    gestation_weeks\n",
    "FROM\n",
    "    preprocessed\n",
    "WHERE\n",
    "  MOD(hashmonth, 4) < 3\n",
    "LIMIT 25"
   ]
  },
  {
   "cell_type": "markdown",
   "metadata": {
    "colab_type": "text",
    "deletable": true,
    "editable": true,
    "id": "hNnZxDw9D5bN"
   },
   "source": [
    "## Create a new model\n",
    "\n",
    "With a data set which has been feature engineered, it is ready to create model with the `CREATE or REPLACE MODEL` statement\n",
    "\n",
    "This will take **5-10 minutes** and will show **Done** when complete."
   ]
  },
  {
   "cell_type": "code",
   "execution_count": 18,
   "metadata": {
    "colab": {
     "autoexec": {
      "startup": false,
      "wait_interval": 0
     }
    },
    "colab_type": "code",
    "collapsed": false,
    "deletable": true,
    "editable": true,
    "id": "aKPqXqicD5bP"
   },
   "outputs": [
    {
     "data": {
      "text/html": [
       "Done"
      ],
      "text/plain": [
       "QueryResultsTable job_rSeIYeqqsx3sv-reWIaqUcF7HQHb"
      ]
     },
     "execution_count": 18,
     "metadata": {},
     "output_type": "execute_result"
    }
   ],
   "source": [
    "%%bq query\n",
    "CREATE or REPLACE MODEL demo.babyweight_model_fc\n",
    "OPTIONS\n",
    "  (model_type='linear_reg', labels=['weight_pounds']) AS\n",
    "  \n",
    "WITH with_ultrasound AS (\n",
    "  SELECT\n",
    "    weight_pounds,\n",
    "    CAST(is_male AS STRING) AS is_male,\n",
    "    IF(mother_age < 18, 'LOW',\n",
    "         IF(mother_age > 45, 'HIGH',\n",
    "            CAST(mother_age AS STRING))) AS mother_age,\n",
    "    CAST(plurality AS STRING) AS plurality,\n",
    "    CAST(gestation_weeks AS STRING) AS gestation_weeks,\n",
    "    ABS(FARM_FINGERPRINT(CONCAT(CAST(YEAR AS STRING), CAST(month AS STRING)))) AS hashmonth\n",
    "  FROM\n",
    "    publicdata.samples.natality\n",
    "  WHERE\n",
    "    year > 2000\n",
    "    AND gestation_weeks > 0\n",
    "    AND mother_age > 0\n",
    "    AND plurality > 0\n",
    "    AND weight_pounds > 0\n",
    "),\n",
    "\n",
    "without_ultrasound AS (\n",
    "  SELECT\n",
    "    weight_pounds,\n",
    "    'Unknown' AS is_male,\n",
    "    IF(mother_age < 18, 'LOW',\n",
    "         IF(mother_age > 45, 'HIGH',\n",
    "            CAST(mother_age AS STRING))) AS mother_age,\n",
    "    IF(plurality > 1, 'Multiple', 'Single') AS plurality,\n",
    "    CAST(gestation_weeks AS STRING) AS gestation_weeks,\n",
    "    ABS(FARM_FINGERPRINT(CONCAT(CAST(YEAR AS STRING), CAST(month AS STRING)))) AS hashmonth\n",
    "  FROM\n",
    "    publicdata.samples.natality\n",
    "  WHERE\n",
    "    year > 2000\n",
    "    AND gestation_weeks > 0\n",
    "    AND mother_age > 0\n",
    "    AND plurality > 0\n",
    "    AND weight_pounds > 0\n",
    "),\n",
    "\n",
    "preprocessed AS (\n",
    "  SELECT * from with_ultrasound\n",
    "  UNION ALL\n",
    "  SELECT * from without_ultrasound\n",
    ")\n",
    "\n",
    "SELECT\n",
    "    weight_pounds,\n",
    "    is_male,\n",
    "    mother_age,\n",
    "    plurality,\n",
    "    gestation_weeks\n",
    "FROM\n",
    "    preprocessed\n",
    "WHERE\n",
    "  MOD(hashmonth, 4) < 3"
   ]
  },
  {
   "cell_type": "markdown",
   "metadata": {
    "colab_type": "text",
    "deletable": true,
    "editable": true,
    "id": "kQw9y9pGD5bQ"
   },
   "source": [
    "## Training Statistics\n",
    "\n",
    "While the new model is training, review the training statistics in the BigQuery UI to see the below model training: https://bigquery.cloud.google.com/\n",
    "\n",
    "The training details may also be viewed after the training completes from this notebook."
   ]
  },
  {
   "cell_type": "code",
   "execution_count": 19,
   "metadata": {
    "colab": {
     "autoexec": {
      "startup": false,
      "wait_interval": 0
     }
    },
    "colab_type": "code",
    "collapsed": false,
    "deletable": true,
    "editable": true,
    "id": "0Tl-hmIxD5bR",
    "outputId": "cc6a30e4-0001-4337-b4fa-96b0503b1f31"
   },
   "outputs": [
    {
     "data": {
      "image/png": "[encoded data removed]",
      "text/plain": [
       "<matplotlib.figure.Figure at 0x7f678b562d10>"
      ]
     },
     "metadata": {},
     "output_type": "display_data"
    }
   ],
   "source": [
    "import google.datalab.bigquery as bq\n",
    "df = bq.Query(\"SELECT * FROM ML.TRAINING_INFO(MODEL demo.babyweight_model_fc)\").execute().result().to_dataframe()\n",
    "# plot both lines in same graph\n",
    "import matplotlib.pyplot as plt\n",
    "plt.plot( 'iteration', 'loss', data=df, marker='o', color='orange', linewidth=2)\n",
    "plt.plot( 'iteration', 'eval_loss', data=df, marker='', color='green', linewidth=2, linestyle='dashed')\n",
    "plt.xlabel('iteration')\n",
    "plt.ylabel('loss')\n",
    "plt.legend();"
   ]
  },
  {
   "cell_type": "markdown",
   "metadata": {
    "colab_type": "text",
    "deletable": true,
    "editable": true,
    "id": "1jlHzJqfD5bU"
   },
   "source": [
    "## Make a prediction with the new model\n",
    "\n"
   ]
  },
  {
   "cell_type": "markdown",
   "metadata": {
    "colab_type": "text",
    "deletable": true,
    "editable": true,
    "id": "EGo8fj9qD5bU"
   },
   "source": [
    "Perhaps it is of interest to make a prediction of the baby's weight given a number of other factors: Male, Mother is 28 years old, Mother will only have one child, and the baby was born after 38 weeks of pregnancy.\n",
    "\n",
    "To make this prediction, these values will be passed into the SELECT statement."
   ]
  },
  {
   "cell_type": "code",
   "execution_count": 20,
   "metadata": {
    "colab": {
     "autoexec": {
      "startup": false,
      "wait_interval": 0
     }
    },
    "colab_type": "code",
    "collapsed": false,
    "deletable": true,
    "editable": true,
    "id": "OTLYWJOSD5bV",
    "outputId": "83fe56d1-ddcb-4ca4-86bc-8a1ffa3d9c33"
   },
   "outputs": [
    {
     "data": {
      "text/html": [
       "\n",
       "    <div class=\"bqtv\" id=\"8_153211426853\"><table><tr><th>predicted_weight_pounds</th><th>is_male</th><th>mother_age</th><th>plurality</th><th>gestation_weeks</th></tr><tr><td>5.85625668152</td><td>True</td><td>28</td><td>1</td><td>38</td></tr></table></div>\n",
       "    <br />(rows: 1, time: 1.4s,     0B processed, job: job__WDzbusrFc-NctUS5cpZSaBjWZD-)<br />\n",
       "    <script src=\"/static/components/requirejs/require.js\"></script>\n",
       "    <script>\n",
       "      require.config({\n",
       "        paths: {\n",
       "          base: '/static/base',\n",
       "          d3: '//cdnjs.cloudflare.com/ajax/libs/d3/3.4.13/d3',\n",
       "          plotly: 'https://cdn.plot.ly/plotly-1.5.1.min.js?noext',\n",
       "          jquery: '//ajax.googleapis.com/ajax/libs/jquery/2.0.0/jquery.min'\n",
       "        },\n",
       "        map: {\n",
       "          '*': {\n",
       "            datalab: 'nbextensions/gcpdatalab'\n",
       "          }\n",
       "        },\n",
       "        shim: {\n",
       "          plotly: {\n",
       "            deps: ['d3', 'jquery'],\n",
       "            exports: 'plotly'\n",
       "          }\n",
       "        }\n",
       "      });\n",
       "\n",
       "      require(['datalab/charting', 'datalab/element!8_153211426853', 'base/js/events',\n",
       "          'datalab/style!/nbextensions/gcpdatalab/charting.css'],\n",
       "        function(charts, dom, events) {\n",
       "          charts.render('gcharts', dom, events, 'table', [], {\"rows\": [{\"c\": [{\"v\": 5.856256681517921}, {\"v\": \"True\"}, {\"v\": \"28\"}, {\"v\": \"1\"}, {\"v\": \"38\"}]}], \"cols\": [{\"type\": \"number\", \"id\": \"predicted_weight_pounds\", \"label\": \"predicted_weight_pounds\"}, {\"type\": \"string\", \"id\": \"is_male\", \"label\": \"is_male\"}, {\"type\": \"string\", \"id\": \"mother_age\", \"label\": \"mother_age\"}, {\"type\": \"string\", \"id\": \"plurality\", \"label\": \"plurality\"}, {\"type\": \"string\", \"id\": \"gestation_weeks\", \"label\": \"gestation_weeks\"}]},\n",
       "            {\n",
       "              pageSize: 25,\n",
       "              cssClassNames:  {\n",
       "                tableRow: 'gchart-table-row',\n",
       "                headerRow: 'gchart-table-headerrow',\n",
       "                oddTableRow: 'gchart-table-oddrow',\n",
       "                selectedTableRow: 'gchart-table-selectedrow',\n",
       "                hoverTableRow: 'gchart-table-hoverrow',\n",
       "                tableCell: 'gchart-table-cell',\n",
       "                headerCell: 'gchart-table-headercell',\n",
       "                rowNumberCell: 'gchart-table-rownumcell'\n",
       "              }\n",
       "            },\n",
       "            {source_index: 7, fields: 'predicted_weight_pounds,is_male,mother_age,plurality,gestation_weeks'},\n",
       "            0,\n",
       "            1);\n",
       "        }\n",
       "      );\n",
       "    </script>\n",
       "  "
      ],
      "text/plain": [
       "QueryResultsTable job__WDzbusrFc-NctUS5cpZSaBjWZD-"
      ]
     },
     "execution_count": 20,
     "metadata": {},
     "output_type": "execute_result"
    }
   ],
   "source": [
    "%%bq query\n",
    "SELECT\n",
    "  *\n",
    "FROM\n",
    "  ml.PREDICT(MODEL demo.babyweight_model_fc,\n",
    "      (SELECT\n",
    "          'True' AS is_male,\n",
    "          '28' AS mother_age,\n",
    "          '1' AS plurality,\n",
    "          '38' AS gestation_weeks\n",
    "    ))"
   ]
  },
  {
   "cell_type": "markdown",
   "metadata": {
    "colab_type": "text",
    "deletable": true,
    "editable": true,
    "id": "PK_-WNGUD5bX"
   },
   "source": [
    "<br>\n",
    "<br>\n",
    "<br>\n",
    "<br>\n",
    "Copyright 2018 Google Inc. Licensed under the Apache License, Version 2.0 (the \"License\"); you may not use this file except in compliance with the License. You may obtain a copy of the License at http://www.apache.org/licenses/LICENSE-2.0 Unless required by applicable law or agreed to in writing, software distributed under the License is distributed on an \"AS IS\" BASIS, WITHOUT WARRANTIES OR CONDITIONS OF ANY KIND, either express or implied. See the License for the specific language governing permissions and limitations under the License"
   ]
  }
 ],
 "metadata": {
  "colab": {
   "default_view": {},
   "name": "babyweight_bqml.ipynb",
   "provenance": [],
   "version": "0.3.2",
   "views": {}
  },
  "kernelspec": {
   "display_name": "Python 2",
   "language": "python",
   "name": "python2"
  },
  "language_info": {
   "codemirror_mode": {
    "name": "ipython",
    "version": 2
   },
   "file_extension": ".py",
   "mimetype": "text/x-python",
   "name": "python",
   "nbconvert_exporter": "python",
   "pygments_lexer": "ipython2",
   "version": "2.7.15"
  }
 },
 "nbformat": 4,
 "nbformat_minor": 0
}
